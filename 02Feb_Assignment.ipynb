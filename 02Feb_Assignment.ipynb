{
  "nbformat": 4,
  "nbformat_minor": 0,
  "metadata": {
    "colab": {
      "provenance": [],
      "authorship_tag": "ABX9TyO3HgFSpdh1ZLdAC/zn+/fd",
      "include_colab_link": true
    },
    "kernelspec": {
      "name": "python3",
      "display_name": "Python 3"
    },
    "language_info": {
      "name": "python"
    }
  },
  "cells": [
    {
      "cell_type": "markdown",
      "metadata": {
        "id": "view-in-github",
        "colab_type": "text"
      },
      "source": [
        "<a href=\"https://colab.research.google.com/github/PurvanshBarodia/Data_Science_Master/blob/main/02Feb_Assignment.ipynb\" target=\"_parent\"><img src=\"https://colab.research.google.com/assets/colab-badge.svg\" alt=\"Open In Colab\"/></a>"
      ]
    },
    {
      "cell_type": "markdown",
      "source": [
        "Q1. What are the characteristics of the tuples? Is tuple immutable?"
      ],
      "metadata": {
        "id": "Ntpj7QPyZW_H"
      }
    },
    {
      "cell_type": "markdown",
      "source": [
        "Tuples is ordered,iterable,heterogeneous and immutable data-type\n",
        "\n",
        "Tuple is immutable, means once it defined you can not change it."
      ],
      "metadata": {
        "id": "nheN3_5wZcUV"
      }
    },
    {
      "cell_type": "markdown",
      "source": [
        "Q2. What are the two tuple methods in python? Give an example of each method. Give a reason why\n",
        "tuples have only two in-built methods as compared to Lists."
      ],
      "metadata": {
        "id": "uAoOhmOyad4d"
      }
    },
    {
      "cell_type": "code",
      "source": [
        "# There are only 2 built-in methods for tuple\n",
        "\n",
        "# count() : Gives number of occurrence of specified value\n",
        "tup1 = (1,2,3,45,1,2,5,2,8,3,2,4,5)\n",
        "print(\"-------Count---------------\")\n",
        "print(tup1.count(2))\n",
        "print()\n",
        "# index() : Searches tuple for a perticular value and return it's position of first found.\n",
        "print(\"---------index------------\")\n",
        "print(tup1.index(2))\n",
        "\n",
        "# List have many methods, \n",
        "# and if we look them most of them are inplace (modify the original list) but it is not the case in tuple."
      ],
      "metadata": {
        "colab": {
          "base_uri": "https://localhost:8080/"
        },
        "id": "__Rmo7wXalXK",
        "outputId": "ed0e4b98-6247-4f87-bb32-cf1ed65db5b3"
      },
      "execution_count": 1,
      "outputs": [
        {
          "output_type": "stream",
          "name": "stdout",
          "text": [
            "-------Count---------------\n",
            "4\n",
            "\n",
            "---------index------------\n",
            "1\n"
          ]
        }
      ]
    },
    {
      "cell_type": "markdown",
      "source": [
        "Q3. Which collection datatypes in python do not allow duplicate items? Write a code using a set to remove\n",
        "duplicates from the given list."
      ],
      "metadata": {
        "id": "OXyyUKi4cf6Z"
      }
    },
    {
      "cell_type": "code",
      "source": [
        "# Set do not allow duplicate items\n",
        "List = [1, 1, 1, 2, 1, 3, 1, 4, 2, 1, 2, 2, 2, 3, 2, 4, 3, 1, 3, 2, 3, 3, 3, 4, 4, 1, 4, 2, 4, 3, 4, 4]\n",
        "set1 = set(List)\n",
        "print(set1)"
      ],
      "metadata": {
        "colab": {
          "base_uri": "https://localhost:8080/"
        },
        "id": "37ZV5HWQcoMt",
        "outputId": "af0db2c8-3952-4d1c-dc33-436aa0244dee"
      },
      "execution_count": 2,
      "outputs": [
        {
          "output_type": "stream",
          "name": "stdout",
          "text": [
            "{1, 2, 3, 4}\n"
          ]
        }
      ]
    },
    {
      "cell_type": "markdown",
      "source": [
        "Q4. Explain the difference between the union() and update() methods for a set. Give an example of\n",
        "each method."
      ],
      "metadata": {
        "id": "qYynp9fcdMd5"
      }
    },
    {
      "cell_type": "code",
      "source": [
        "# Union : creates a new set that includes elements of both sets\n",
        "set1 = {1,2,3,4}\n",
        "set2 = {5,6,7,8}\n",
        "\n",
        "print(set1.union(set2))\n",
        "\n",
        "# Update: modify the set1 and add the elements of set2 to set1\n",
        "\n",
        "set1.update(set2)\n",
        "print(set1)"
      ],
      "metadata": {
        "colab": {
          "base_uri": "https://localhost:8080/"
        },
        "id": "qlmELn2HdS5d",
        "outputId": "3ab255ac-69a9-4131-a30f-3bd27a6d311c"
      },
      "execution_count": 3,
      "outputs": [
        {
          "output_type": "stream",
          "name": "stdout",
          "text": [
            "{1, 2, 3, 4, 5, 6, 7, 8}\n",
            "{1, 2, 3, 4, 5, 6, 7, 8}\n"
          ]
        }
      ]
    },
    {
      "cell_type": "markdown",
      "source": [
        "Q5.What is a dictionary? Give an example. Also, state whether a dictionary is ordered or unordered."
      ],
      "metadata": {
        "id": "jNED_oAHesWo"
      }
    },
    {
      "cell_type": "markdown",
      "source": [
        "Dictionary in a python is built in data structure that represent collenction of key-value pair. \n"
      ],
      "metadata": {
        "id": "Rp-o8lgt0FyE"
      }
    },
    {
      "cell_type": "code",
      "source": [
        "my_dict = {\"ID\":[1,2,3,4],\n",
        "           \"Name\":[\"Jay\",\"Ajay\",\"Atul\",\"Aman\"]}\n",
        "# where ID and Name are keys"
      ],
      "metadata": {
        "id": "4t4_4II00qRg"
      },
      "execution_count": 4,
      "outputs": []
    },
    {
      "cell_type": "markdown",
      "source": [
        "Dictionary in python is unordered, means order of key-value pairs are not need to be same as in the order they were added in the dictionary."
      ],
      "metadata": {
        "id": "tJvN6VsF1Z_V"
      }
    },
    {
      "cell_type": "markdown",
      "source": [
        "Q6. Can we create a nested dictionary? If so, please give an example by creating a simple one-level\n",
        "nested dictionary."
      ],
      "metadata": {
        "id": "FK3hUMVE147W"
      }
    },
    {
      "cell_type": "code",
      "source": [
        "# Nested Dictionary means dictionary within dictionary.\n",
        "nested_dict = {\n",
        "    \"person1\": {\"name\": \"Alice\", \"age\": 25},\n",
        "    \"person2\": {\"name\": \"Bob\", \"age\": 30},\n",
        "    \"person3\": {\"name\": \"Charlie\", \"age\": 35}\n",
        "}\n",
        "\n",
        "print(nested_dict['person2']['name'])"
      ],
      "metadata": {
        "colab": {
          "base_uri": "https://localhost:8080/"
        },
        "id": "IQl6tqnH19WW",
        "outputId": "7ced123a-9159-4e15-e3c7-835bd49137a6"
      },
      "execution_count": 5,
      "outputs": [
        {
          "output_type": "stream",
          "name": "stdout",
          "text": [
            "Bob\n"
          ]
        }
      ]
    },
    {
      "cell_type": "markdown",
      "source": [
        "Q7. Using setdefault() method, create key named topics in the given dictionary and also add the value of\n",
        "the key as this list ['Python', 'Machine Learning’, 'Deep Learning']"
      ],
      "metadata": {
        "id": "F1d35zBG5E8g"
      }
    },
    {
      "cell_type": "code",
      "source": [
        "dict1 = {'language' : 'Python', 'course': 'Data Science Masters'}\n",
        "dict1.setdefault(\"topics\",['Python', 'Machine Learning', 'Deep Learning'])\n",
        "print(dict1)"
      ],
      "metadata": {
        "colab": {
          "base_uri": "https://localhost:8080/"
        },
        "id": "eFV5MqRo4FMU",
        "outputId": "0f076a87-8148-41ad-c410-c2c0a9def3b6"
      },
      "execution_count": 6,
      "outputs": [
        {
          "output_type": "stream",
          "name": "stdout",
          "text": [
            "{'language': 'Python', 'course': 'Data Science Masters', 'topics': ['Python', 'Machine Learning', 'Deep Learning']}\n"
          ]
        }
      ]
    },
    {
      "cell_type": "markdown",
      "source": [
        "Q8. What are the three view objects in dictionaries? Use the three in-built methods in python to display\n",
        "these three view objects for the given dictionary."
      ],
      "metadata": {
        "id": "GVpa3V3a5oMJ"
      }
    },
    {
      "cell_type": "markdown",
      "source": [
        "There are three view objects in dictionaries.\n",
        "\n",
        "1. keys()\n",
        "2. vlaues()\n",
        "3. items()"
      ],
      "metadata": {
        "id": "L3WaoAsx6zl-"
      }
    },
    {
      "cell_type": "code",
      "source": [
        "print(\"--------------------Keys--------------------\")\n",
        "print(dict1.keys()) # returns the list of keys\n",
        "print(\"--------------------Values--------------------\")\n",
        "print(dict1.values()) # returns the list of values\n",
        "print(\"--------------------Items--------------------\")\n",
        "print(dict1.items()) # returns the list of tuples containing key-value pairs"
      ],
      "metadata": {
        "colab": {
          "base_uri": "https://localhost:8080/"
        },
        "id": "2ILckbwkGhAm",
        "outputId": "d81f6a41-f1e1-4f53-ca3a-3ef374f5f5d4"
      },
      "execution_count": 7,
      "outputs": [
        {
          "output_type": "stream",
          "name": "stdout",
          "text": [
            "--------------------Keys--------------------\n",
            "dict_keys(['language', 'course', 'topics'])\n",
            "--------------------Values--------------------\n",
            "dict_values(['Python', 'Data Science Masters', ['Python', 'Machine Learning', 'Deep Learning']])\n",
            "--------------------Items--------------------\n",
            "dict_items([('language', 'Python'), ('course', 'Data Science Masters'), ('topics', ['Python', 'Machine Learning', 'Deep Learning'])])\n"
          ]
        }
      ]
    },
    {
      "cell_type": "code",
      "source": [],
      "metadata": {
        "id": "s-G3eH9JHIHx"
      },
      "execution_count": 7,
      "outputs": []
    }
  ]
}