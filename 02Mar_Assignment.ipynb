{
  "nbformat": 4,
  "nbformat_minor": 0,
  "metadata": {
    "colab": {
      "provenance": [],
      "authorship_tag": "ABX9TyPqrbkmHJ4mKzlHqkJJatN1",
      "include_colab_link": true
    },
    "kernelspec": {
      "name": "python3",
      "display_name": "Python 3"
    },
    "language_info": {
      "name": "python"
    }
  },
  "cells": [
    {
      "cell_type": "markdown",
      "metadata": {
        "id": "view-in-github",
        "colab_type": "text"
      },
      "source": [
        "<a href=\"https://colab.research.google.com/github/PurvanshBarodia/Data_Science_Master/blob/main/02Mar_Assignment.ipynb\" target=\"_parent\"><img src=\"https://colab.research.google.com/assets/colab-badge.svg\" alt=\"Open In Colab\"/></a>"
      ]
    },
    {
      "cell_type": "markdown",
      "source": [
        "Q1: What is Matplotlib? Why is it used? Name five plots that can be plotted using the Pyplot module of\n",
        "Matplotlib."
      ],
      "metadata": {
        "id": "DC2YWxd7XweQ"
      }
    },
    {
      "cell_type": "markdown",
      "source": [
        "Matplotlib is a pyton library used for data visulization and exploration.\n",
        "\n",
        "With the help of pyplot module we can plot line chart, scatter chart, bar chart, pie chart and histrogram."
      ],
      "metadata": {
        "id": "N5dTkuKFX0-e"
      }
    },
    {
      "cell_type": "markdown",
      "source": [
        "Q2: What is a scatter plot? Use the following code to generate data for x and y. Using this generated data\n",
        "plot a scatter plot."
      ],
      "metadata": {
        "id": "sUuy2fD1Yzty"
      }
    },
    {
      "cell_type": "markdown",
      "source": [
        "Scatter plot marks the corresponding x,y points on the space."
      ],
      "metadata": {
        "id": "46n-Aj7bY4X3"
      }
    },
    {
      "cell_type": "code",
      "source": [
        "import numpy as np\n",
        "import matplotlib.pyplot as plt\n",
        "np.random.seed(3)\n",
        "x = 3 + np.random.normal(0, 2, 50)\n",
        "y = 3 + np.random.normal(0, 2, len(x))\n",
        "\n",
        "plt.scatter(x,y)\n",
        "plt.xlabel(\"x value\")\n",
        "plt.ylabel(\"y value\")\n",
        "plt.title(\"Normally Distributed X and Y\")\n",
        "plt.show()\n"
      ],
      "metadata": {
        "colab": {
          "base_uri": "https://localhost:8080/",
          "height": 295
        },
        "id": "OJikQSoEZbvl",
        "outputId": "6ae9c6c9-7d9b-4b6d-cbbf-1ca6b3d5e1df"
      },
      "execution_count": 3,
      "outputs": [
        {
          "output_type": "display_data",
          "data": {
            "text/plain": [
              "<Figure size 432x288 with 1 Axes>"
            ],
            "image/png": "[encoded data removed]"
          },
          "metadata": {
            "needs_background": "light"
          }
        }
      ]
    },
    {
      "cell_type": "markdown",
      "source": [
        "Q3: Why is the subplot() function used? Draw four line plots using the subplot() function."
      ],
      "metadata": {
        "id": "FOM0vFlaZnz7"
      }
    },
    {
      "cell_type": "code",
      "source": [
        "# If we want to show different graphs in one window, we will use subplot()\n",
        "\n",
        "plt.subplot(3,2,1)\n",
        "x = np.array([0, 1, 2, 3, 4, 5]) \n",
        "y = np.array([0, 100, 200, 300, 400, 500])\n",
        "plt.title(\"plot1\")\n",
        "plt.plot(x,y)\n",
        "\n",
        "plt.subplot(3,2,2)\n",
        "x = np.array([0, 1, 2, 3, 4, 5]) \n",
        "y = np.array([50, 20, 40, 20, 60, 70])\n",
        "plt.title(\"plot2\")\n",
        "plt.plot(x,y)\n",
        "\n",
        "plt.subplot(3,2,5)\n",
        "x = np.array([0, 1, 2, 3, 4, 5]) \n",
        "y = np.array([10, 20, 30, 40, 50, 60])\n",
        "plt.title(\"plot3\")\n",
        "plt.plot(x,y)\n",
        "\n",
        "plt.subplot(3,2,6)\n",
        "x = np.array([0, 1, 2, 3, 4, 5]) \n",
        "y =np.array([200, 350, 250, 550, 450, 150])\n",
        "plt.title(\"plot4\")\n",
        "plt.plot(x,y)\n",
        "\n",
        "plt.show()"
      ],
      "metadata": {
        "colab": {
          "base_uri": "https://localhost:8080/",
          "height": 281
        },
        "id": "zoML8UU2aPYt",
        "outputId": "e11cbf20-ed12-4427-ca07-9a4547d10673"
      },
      "execution_count": 8,
      "outputs": [
        {
          "output_type": "display_data",
          "data": {
            "text/plain": [
              "<Figure size 432x288 with 4 Axes>"
            ],
            "image/png": "[encoded data removed]"
          },
          "metadata": {
            "needs_background": "light"
          }
        }
      ]
    },
    {
      "cell_type": "markdown",
      "source": [
        "Q4: What is a bar plot? Why is it used? Using the following data plot a bar plot and a horizontal bar plot."
      ],
      "metadata": {
        "id": "b55sSZB1bmJ2"
      }
    },
    {
      "cell_type": "code",
      "source": [
        "# Bar Plot helps to plot categorical and numerical values\n",
        "company = np.array([\"Apple\", \"Microsoft\", \"Google\", \"AMD\"])\n",
        "profit = np.array([3000, 8000, 1000, 10000])\n",
        "\n",
        "plt.barh(company,profit, color='#03E7FC',alpha=0.9)\n",
        "plt.xlabel(\"Profit\")\n",
        "plt.ylabel(\"Company\")\n",
        "plt.title(\"Profit Vs Company\")\n",
        "plt.grid()\n",
        "plt.show()"
      ],
      "metadata": {
        "colab": {
          "base_uri": "https://localhost:8080/",
          "height": 295
        },
        "id": "hp0Q8nN8cUH7",
        "outputId": "f691ef45-b8b1-4d7c-e6a2-22740b5f28eb"
      },
      "execution_count": 21,
      "outputs": [
        {
          "output_type": "display_data",
          "data": {
            "text/plain": [
              "<Figure size 432x288 with 1 Axes>"
            ],
            "image/png": "[encoded data removed]"
          },
          "metadata": {
            "needs_background": "light"
          }
        }
      ]
    },
    {
      "cell_type": "markdown",
      "source": [
        "Q5: What is a box plot? Why is it used? Using the following data plot a box plot."
      ],
      "metadata": {
        "id": "FpsOsjn-dMXr"
      }
    },
    {
      "cell_type": "code",
      "source": [
        "# Box plot is used to see distribution of numerical values\n",
        "box1 = np.random.normal(100, 10, 200)\n",
        "box2 = np.random.normal(90, 20, 200)\n",
        "\n",
        "plt.subplot(1,2,1)\n",
        "plt.title(\"boxplot 1\")\n",
        "plt.boxplot(box1)\n",
        "\n",
        "plt.subplot(1,2,2)\n",
        "plt.title(\"boxplot 2\")\n",
        "plt.boxplot(box2)\n",
        "\n",
        "plt.show()"
      ],
      "metadata": {
        "colab": {
          "base_uri": "https://localhost:8080/",
          "height": 281
        },
        "id": "xYo3F0uhdstL",
        "outputId": "e38eeeff-51ad-455b-cafb-f79817df947d"
      },
      "execution_count": 17,
      "outputs": [
        {
          "output_type": "display_data",
          "data": {
            "text/plain": [
              "<Figure size 432x288 with 2 Axes>"
            ],
            "image/png": "[encoded data removed]"
          },
          "metadata": {
            "needs_background": "light"
          }
        }
      ]
    },
    {
      "cell_type": "code",
      "source": [],
      "metadata": {
        "id": "HShPA-bCefuV"
      },
      "execution_count": null,
      "outputs": []
    }
  ]
}