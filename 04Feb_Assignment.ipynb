{
  "nbformat": 4,
  "nbformat_minor": 0,
  "metadata": {
    "colab": {
      "provenance": [],
      "authorship_tag": "ABX9TyOriVIVtaFhOwn9oWRK7vfQ",
      "include_colab_link": true
    },
    "kernelspec": {
      "name": "python3",
      "display_name": "Python 3"
    },
    "language_info": {
      "name": "python"
    }
  },
  "cells": [
    {
      "cell_type": "markdown",
      "metadata": {
        "id": "view-in-github",
        "colab_type": "text"
      },
      "source": [
        "<a href=\"https://colab.research.google.com/github/PurvanshBarodia/Data_Science_Master/blob/main/04Feb_Assignment.ipynb\" target=\"_parent\"><img src=\"https://colab.research.google.com/assets/colab-badge.svg\" alt=\"Open In Colab\"/></a>"
      ]
    },
    {
      "cell_type": "markdown",
      "source": [
        "Q1. Create a python program to sort the given list of tuples based on integer value using a\n",
        "lambda function."
      ],
      "metadata": {
        "id": "RX_HGmMuzwGW"
      }
    },
    {
      "cell_type": "code",
      "source": [
        "lis = [('Sachin Tendulkar', 34357), ('Ricky Ponting', 27483), ('Jack Kallis', 25534), ('Virat Kohli', 24936)]\n",
        "\n",
        "lis.sort(key=lambda x : x[1],reverse=True)\n",
        "print(lis)"
      ],
      "metadata": {
        "colab": {
          "base_uri": "https://localhost:8080/"
        },
        "id": "ADEyypb00Xj2",
        "outputId": "2c0b7628-616a-46a4-d342-db1a0121ecc2"
      },
      "execution_count": 1,
      "outputs": [
        {
          "output_type": "stream",
          "name": "stdout",
          "text": [
            "[('Sachin Tendulkar', 34357), ('Ricky Ponting', 27483), ('Jack Kallis', 25534), ('Virat Kohli', 24936)]\n"
          ]
        }
      ]
    },
    {
      "cell_type": "markdown",
      "source": [
        "Q2. Write a Python Program to find the squares of all the numbers in the given list of integers using\n",
        "lambda and map functions."
      ],
      "metadata": {
        "id": "m_-EF64r7o8w"
      }
    },
    {
      "cell_type": "code",
      "source": [
        "lis1 = [1, 2, 3, 4, 5, 6, 7, 8, 9, 10]\n",
        "print(list(map(lambda x: x**2,lis1)))"
      ],
      "metadata": {
        "colab": {
          "base_uri": "https://localhost:8080/"
        },
        "id": "tLhCHPdQ772m",
        "outputId": "b22c623c-8d3b-44c3-eee6-14e6e6bfa136"
      },
      "execution_count": 2,
      "outputs": [
        {
          "output_type": "stream",
          "name": "stdout",
          "text": [
            "[1, 4, 9, 16, 25, 36, 49, 64, 81, 100]\n"
          ]
        }
      ]
    },
    {
      "cell_type": "markdown",
      "source": [
        "Q3. Write a python program to convert the given list of integers into a tuple of strings. Use map and\n",
        "lambda functions"
      ],
      "metadata": {
        "id": "TmLmLmSi8IN8"
      }
    },
    {
      "cell_type": "code",
      "source": [
        "lis1 = [1, 2, 3, 4, 5, 6, 7, 8, 9, 10]\n",
        "print(tuple(map(lambda x:str(x),lis1)))"
      ],
      "metadata": {
        "colab": {
          "base_uri": "https://localhost:8080/"
        },
        "id": "bbGw6Pkr8NpC",
        "outputId": "f34fd880-19fd-46d7-e915-169c346ac42b"
      },
      "execution_count": 3,
      "outputs": [
        {
          "output_type": "stream",
          "name": "stdout",
          "text": [
            "('1', '2', '3', '4', '5', '6', '7', '8', '9', '10')\n"
          ]
        }
      ]
    },
    {
      "cell_type": "markdown",
      "source": [
        "Q4. Write a python program using reduce function to compute the product of a list containing numbers\n",
        "from 1 to 25."
      ],
      "metadata": {
        "id": "4ydlfcgU8YA2"
      }
    },
    {
      "cell_type": "code",
      "source": [
        "from functools import reduce\n",
        "lis2 = [i for i in range(1,26)]\n",
        "print(reduce(lambda x,y:x*y,lis2))"
      ],
      "metadata": {
        "colab": {
          "base_uri": "https://localhost:8080/"
        },
        "id": "mf2MAVEz8iLv",
        "outputId": "6494bc25-b2c5-4b75-bc11-479dfd2cd2f9"
      },
      "execution_count": 4,
      "outputs": [
        {
          "output_type": "stream",
          "name": "stdout",
          "text": [
            "15511210043330985984000000\n"
          ]
        }
      ]
    },
    {
      "cell_type": "markdown",
      "source": [
        "Q5. Write a python program to filter the numbers in a given list that are divisible by 2 and 3 using the\n",
        "filter function."
      ],
      "metadata": {
        "id": "rYFCD_AL9Xov"
      }
    },
    {
      "cell_type": "code",
      "source": [
        "lis3 = [2, 3, 6, 9, 27, 60, 90, 120, 55, 46]\n",
        "print(list(filter(lambda x: x%2==0 or x%3==0,lis3)))"
      ],
      "metadata": {
        "colab": {
          "base_uri": "https://localhost:8080/"
        },
        "id": "v88NDWMy93sB",
        "outputId": "116be1f9-9d37-49bf-fe4e-21d7cbcb1e41"
      },
      "execution_count": 5,
      "outputs": [
        {
          "output_type": "stream",
          "name": "stdout",
          "text": [
            "[2, 3, 6, 9, 27, 60, 90, 120, 46]\n"
          ]
        }
      ]
    },
    {
      "cell_type": "markdown",
      "source": [
        "Q6. Write a python program to find palindromes in the given list of strings using lambda and filter\n",
        "function."
      ],
      "metadata": {
        "id": "TT84qrgo-TbH"
      }
    },
    {
      "cell_type": "code",
      "source": [
        "lis4 = ['python', 'php', 'aba', 'radar', 'level']\n",
        "print(list(filter(lambda x: x==x[::-1],lis4)))"
      ],
      "metadata": {
        "colab": {
          "base_uri": "https://localhost:8080/"
        },
        "id": "owx3zIbc-brU",
        "outputId": "db470c65-c382-4c61-b9d6-82f18f633697"
      },
      "execution_count": 6,
      "outputs": [
        {
          "output_type": "stream",
          "name": "stdout",
          "text": [
            "['php', 'aba', 'radar', 'level']\n"
          ]
        }
      ]
    }
  ]
}