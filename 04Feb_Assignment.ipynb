{
  "nbformat": 4,
  "nbformat_minor": 0,
  "metadata": {
    "colab": {
      "provenance": [],
      "authorship_tag": "ABX9TyN7iI5rzfffzRQ75JAGdhNd",
      "include_colab_link": true
    },
    "kernelspec": {
      "name": "python3",
      "display_name": "Python 3"
    },
    "language_info": {
      "name": "python"
    }
  },
  "cells": [
    {
      "cell_type": "markdown",
      "metadata": {
        "id": "view-in-github",
        "colab_type": "text"
      },
      "source": [
        "<a href=\"https://colab.research.google.com/github/PurvanshBarodia/Data_Science_Master/blob/main/04Feb_Assignment.ipynb\" target=\"_parent\"><img src=\"https://colab.research.google.com/assets/colab-badge.svg\" alt=\"Open In Colab\"/></a>"
      ]
    },
    {
      "cell_type": "markdown",
      "source": [
        "Q1. Create a python program to sort the given list of tuples based on integer value using a\n",
        "lambda function."
      ],
      "metadata": {
        "id": "RX_HGmMuzwGW"
      }
    },
    {
      "cell_type": "code",
      "source": [
        "lis = [('Sachin Tendulkar', 34357), ('Ricky Ponting', 27483), ('Jack Kallis', 25534), ('Virat Kohli', 24936)]\n",
        "\n",
        "lis.sort(key=lambda x : x[1])\n",
        "print(lis)"
      ],
      "metadata": {
        "colab": {
          "base_uri": "https://localhost:8080/"
        },
        "id": "ADEyypb00Xj2",
        "outputId": "54acead2-4975-4bed-92ce-e37d97dc3888"
      },
      "execution_count": 14,
      "outputs": [
        {
          "output_type": "stream",
          "name": "stdout",
          "text": [
            "[('Virat Kohli', 24936), ('Jack Kallis', 25534), ('Ricky Ponting', 27483), ('Sachin Tendulkar', 34357)]\n"
          ]
        }
      ]
    },
    {
      "cell_type": "markdown",
      "source": [
        "Q2. Write a Python Program to find the squares of all the numbers in the given list of integers using\n",
        "lambda and map functions."
      ],
      "metadata": {
        "id": "m_-EF64r7o8w"
      }
    },
    {
      "cell_type": "code",
      "source": [
        "lis1 = [1, 2, 3, 4, 5, 6, 7, 8, 9, 10]\n",
        "print(list(map(lambda x: x**2,lis1)))"
      ],
      "metadata": {
        "colab": {
          "base_uri": "https://localhost:8080/"
        },
        "id": "tLhCHPdQ772m",
        "outputId": "8c65ca41-9259-406d-d10c-c8e8fca76055"
      },
      "execution_count": 15,
      "outputs": [
        {
          "output_type": "stream",
          "name": "stdout",
          "text": [
            "[1, 4, 9, 16, 25, 36, 49, 64, 81, 100]\n"
          ]
        }
      ]
    },
    {
      "cell_type": "markdown",
      "source": [
        "Q3. Write a python program to convert the given list of integers into a tuple of strings. Use map and\n",
        "lambda functions"
      ],
      "metadata": {
        "id": "TmLmLmSi8IN8"
      }
    },
    {
      "cell_type": "code",
      "source": [
        "lis1 = [1, 2, 3, 4, 5, 6, 7, 8, 9, 10]\n",
        "print(tuple(map(lambda x:str(x),lis1)))"
      ],
      "metadata": {
        "colab": {
          "base_uri": "https://localhost:8080/"
        },
        "id": "bbGw6Pkr8NpC",
        "outputId": "64465a15-efb9-4736-bd7f-58bca9f60dbe"
      },
      "execution_count": 17,
      "outputs": [
        {
          "output_type": "stream",
          "name": "stdout",
          "text": [
            "('1', '2', '3', '4', '5', '6', '7', '8', '9', '10')\n"
          ]
        }
      ]
    },
    {
      "cell_type": "markdown",
      "source": [
        "Q4. Write a python program using reduce function to compute the product of a list containing numbers\n",
        "from 1 to 25."
      ],
      "metadata": {
        "id": "4ydlfcgU8YA2"
      }
    },
    {
      "cell_type": "code",
      "source": [
        "from functools import reduce\n",
        "lis2 = [i for i in range(1,26)]\n",
        "print(reduce(lambda x,y:x*y,lis2))"
      ],
      "metadata": {
        "colab": {
          "base_uri": "https://localhost:8080/"
        },
        "id": "mf2MAVEz8iLv",
        "outputId": "41fedfc6-5712-4721-a457-2567f89bd0dd"
      },
      "execution_count": 23,
      "outputs": [
        {
          "output_type": "stream",
          "name": "stdout",
          "text": [
            "15511210043330985984000000\n"
          ]
        }
      ]
    },
    {
      "cell_type": "markdown",
      "source": [
        "Q5. Write a python program to filter the numbers in a given list that are divisible by 2 and 3 using the\n",
        "filter function."
      ],
      "metadata": {
        "id": "rYFCD_AL9Xov"
      }
    },
    {
      "cell_type": "code",
      "source": [
        "lis3 = [2, 3, 6, 9, 27, 60, 90, 120, 55, 46]\n",
        "print(list(filter(lambda x: x%2==0 or x%3==0,lis3)))"
      ],
      "metadata": {
        "colab": {
          "base_uri": "https://localhost:8080/"
        },
        "id": "v88NDWMy93sB",
        "outputId": "878d1951-7b6d-4c4c-de35-020e30cc53e7"
      },
      "execution_count": 25,
      "outputs": [
        {
          "output_type": "stream",
          "name": "stdout",
          "text": [
            "[2, 3, 6, 9, 27, 60, 90, 120, 46]\n"
          ]
        }
      ]
    },
    {
      "cell_type": "markdown",
      "source": [
        "Q6. Write a python program to find palindromes in the given list of strings using lambda and filter\n",
        "function."
      ],
      "metadata": {
        "id": "TT84qrgo-TbH"
      }
    },
    {
      "cell_type": "code",
      "source": [
        "lis4 = ['python', 'php', 'aba', 'radar', 'level']\n",
        "print(list(filter(lambda x: x==x[::-1],lis4)))"
      ],
      "metadata": {
        "colab": {
          "base_uri": "https://localhost:8080/"
        },
        "id": "owx3zIbc-brU",
        "outputId": "69b1c82b-c387-4cb2-ad10-9bbd0f5f6d06"
      },
      "execution_count": 28,
      "outputs": [
        {
          "output_type": "stream",
          "name": "stdout",
          "text": [
            "['php', 'aba', 'radar', 'level']\n"
          ]
        }
      ]
    },
    {
      "cell_type": "code",
      "source": [],
      "metadata": {
        "id": "VraNnU7p-zCi"
      },
      "execution_count": null,
      "outputs": []
    }
  ]
}