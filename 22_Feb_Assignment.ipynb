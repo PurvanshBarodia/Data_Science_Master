{
  "nbformat": 4,
  "nbformat_minor": 0,
  "metadata": {
    "colab": {
      "provenance": [],
      "authorship_tag": "ABX9TyOATb0tEqNCq+ymqmeRxfF0",
      "include_colab_link": true
    },
    "kernelspec": {
      "name": "python3",
      "display_name": "Python 3"
    },
    "language_info": {
      "name": "python"
    }
  },
  "cells": [
    {
      "cell_type": "markdown",
      "metadata": {
        "id": "view-in-github",
        "colab_type": "text"
      },
      "source": [
        "<a href=\"https://colab.research.google.com/github/PurvanshBarodia/Data_Science_Master/blob/main/22_Feb_Assignment.ipynb\" target=\"_parent\"><img src=\"https://colab.research.google.com/assets/colab-badge.svg\" alt=\"Open In Colab\"/></a>"
      ]
    },
    {
      "cell_type": "code",
      "execution_count": 1,
      "metadata": {
        "id": "Sptw5Y8sNPpe"
      },
      "outputs": [],
      "source": [
        "import pandas as pd"
      ]
    },
    {
      "cell_type": "code",
      "source": [
        "#Q1. Create a Pandas Series that contains the following data: 4, 8, 15, 16, 23, and 42. Then, print the series.\n",
        "\n",
        "s1 = pd.Series([4,8,15,16,23,42])\n",
        "print(s1)"
      ],
      "metadata": {
        "colab": {
          "base_uri": "https://localhost:8080/"
        },
        "id": "rYYs2ExJNZAF",
        "outputId": "139f3828-7e17-4ad8-e2a7-236e8af885e7"
      },
      "execution_count": 2,
      "outputs": [
        {
          "output_type": "stream",
          "name": "stdout",
          "text": [
            "0     4\n",
            "1     8\n",
            "2    15\n",
            "3    16\n",
            "4    23\n",
            "5    42\n",
            "dtype: int64\n"
          ]
        }
      ]
    },
    {
      "cell_type": "code",
      "source": [
        "#Q2. Q2. Create a variable of list type containing 10 elements in it, and apply pandas.Series function on the\n",
        "# variable print it.\n",
        "\n",
        "lis = [i for i in range(0,20,2)]\n",
        "s2 = pd.Series(lis)\n",
        "print(s2)"
      ],
      "metadata": {
        "colab": {
          "base_uri": "https://localhost:8080/"
        },
        "id": "c5PFxPAENw4A",
        "outputId": "838ce81e-ddaa-472a-b565-8b2135be54e9"
      },
      "execution_count": 4,
      "outputs": [
        {
          "output_type": "stream",
          "name": "stdout",
          "text": [
            "0     0\n",
            "1     2\n",
            "2     4\n",
            "3     6\n",
            "4     8\n",
            "5    10\n",
            "6    12\n",
            "7    14\n",
            "8    16\n",
            "9    18\n",
            "dtype: int64\n"
          ]
        }
      ]
    },
    {
      "cell_type": "code",
      "source": [
        "# Q3. Create a Pandas DataFrame that contains the following data:\n",
        "data = {'Name': ['Alice', 'Bob', 'Claire'],\n",
        "\n",
        "        'Age': [25, 30, 27],\n",
        "\n",
        "        'Gender': ['Female', 'Male', 'Female']}\n",
        "\n",
        "df = pd.DataFrame(data)\n",
        "print(df)"
      ],
      "metadata": {
        "colab": {
          "base_uri": "https://localhost:8080/"
        },
        "id": "I9AgXOxrOIj6",
        "outputId": "dcfa2773-2893-49d9-d985-bbcdc78b4651"
      },
      "execution_count": 6,
      "outputs": [
        {
          "output_type": "stream",
          "name": "stdout",
          "text": [
            "     Name  Age  Gender\n",
            "0   Alice   25  Female\n",
            "1     Bob   30    Male\n",
            "2  Claire   27  Female\n"
          ]
        }
      ]
    },
    {
      "cell_type": "code",
      "source": [
        "#Q4. What is ‘DataFrame’ in pandas and how is it different from pandas.series? Explain with an example.\n",
        "\n",
        "# DataFrame is 2-D where Series is 1-D\n",
        "# Series have homogeneous data (one datatype for whole column), \n",
        "# DataFrame have hetrogeneous data (combination of Series having different datatypes)\n",
        "\n",
        "# Series of int datatype\n",
        "s1 = pd.Series([4,8,15,16,23,42])\n",
        "print(s1.dtypes)\n",
        "\n",
        "print(\"------------------\")\n",
        "\n",
        "# DataFrame\n",
        "data = {'Name': ['Alice', 'Bob', 'Claire'],\n",
        "\n",
        "        'Age': [25, 30, 27],\n",
        "\n",
        "        'Gender': ['Female', 'Male', 'Female']}\n",
        "\n",
        "df = pd.DataFrame(data)\n",
        "\n",
        "print(df.dtypes)"
      ],
      "metadata": {
        "colab": {
          "base_uri": "https://localhost:8080/"
        },
        "id": "wxADCYbKOwVy",
        "outputId": "f3686cc5-de1d-45c1-aa86-b7662b843457"
      },
      "execution_count": 8,
      "outputs": [
        {
          "output_type": "stream",
          "name": "stdout",
          "text": [
            "int64\n",
            "------------------\n",
            "Name      object\n",
            "Age        int64\n",
            "Gender    object\n",
            "dtype: object\n"
          ]
        }
      ]
    },
    {
      "cell_type": "code",
      "source": [
        "# Q5. What are some common functions you can use to manipulate data in a Pandas DataFrame? Can\n",
        " # you give an example of when you might use one of these functions?\n",
        "\n",
        "# 'head()' and 'tail()'\n",
        "print('head()')\n",
        "print(df.head()) # first 5 rows\n",
        "print('-------------------------------------------')\n",
        "print('tail()')\n",
        "print(df.tail()) # last 5 rows.\n",
        "print('-------------------------------------------')\n",
        "\n",
        "# 'describe()'\n",
        "print('describe()')\n",
        "print(df.describe()) # summary statistics for numeric values\n",
        "print('-------------------------------------------')\n",
        "\n",
        "# 'sort_values()'\n",
        "print('sort_values()')\n",
        "print(df.sort_values(by='Age')) # sort the dataframe based on column values\n"
      ],
      "metadata": {
        "colab": {
          "base_uri": "https://localhost:8080/"
        },
        "id": "GdvNUVR9Qi0l",
        "outputId": "6b98275f-1237-40be-9e80-1c181ce48276"
      },
      "execution_count": 13,
      "outputs": [
        {
          "output_type": "stream",
          "name": "stdout",
          "text": [
            "head()\n",
            "     Name  Age  Gender\n",
            "0   Alice   25  Female\n",
            "1     Bob   30    Male\n",
            "2  Claire   27  Female\n",
            "-------------------------------------------\n",
            "tail()\n",
            "     Name  Age  Gender\n",
            "0   Alice   25  Female\n",
            "1     Bob   30    Male\n",
            "2  Claire   27  Female\n",
            "-------------------------------------------\n",
            "describe()\n",
            "             Age\n",
            "count   3.000000\n",
            "mean   27.333333\n",
            "std     2.516611\n",
            "min    25.000000\n",
            "25%    26.000000\n",
            "50%    27.000000\n",
            "75%    28.500000\n",
            "max    30.000000\n",
            "-------------------------------------------\n",
            "sort_values()\n",
            "     Name  Age  Gender\n",
            "0   Alice   25  Female\n",
            "2  Claire   27  Female\n",
            "1     Bob   30    Male\n"
          ]
        }
      ]
    },
    {
      "cell_type": "code",
      "source": [
        "# Q6. Which of the following is mutable in nature Series, DataFrame, Panel?\n",
        "\n",
        "# DataFrame and Panel are mutable"
      ],
      "metadata": {
        "id": "BeL3bCqGQ1tu"
      },
      "execution_count": 10,
      "outputs": []
    },
    {
      "cell_type": "code",
      "source": [
        "# Q7. Create a DataFrame using multiple Series. Explain with an example.\n",
        "\n",
        "name_s = pd.Series(['Alice', 'Bob', 'Claire'],name='Name')\n",
        "age_s = pd.Series([25,30,27], name='Age')\n",
        "gender_s = pd.Series(['Female','Male','Female'], name='Gender')\n",
        "\n",
        "# concate three series using pandas.concat()\n",
        "df = pd.concat([name_s,age_s,gender_s], axis=1)\n",
        "print(df)"
      ],
      "metadata": {
        "colab": {
          "base_uri": "https://localhost:8080/"
        },
        "id": "8Jnt4WkGQ5PT",
        "outputId": "7477b684-4031-4802-a8fd-5a21a3de31ad"
      },
      "execution_count": 11,
      "outputs": [
        {
          "output_type": "stream",
          "name": "stdout",
          "text": [
            "     Name  Age  Gender\n",
            "0   Alice   25  Female\n",
            "1     Bob   30    Male\n",
            "2  Claire   27  Female\n"
          ]
        }
      ]
    },
    {
      "cell_type": "code",
      "source": [],
      "metadata": {
        "id": "jHjAV28tT4hV"
      },
      "execution_count": null,
      "outputs": []
    }
  ]
}