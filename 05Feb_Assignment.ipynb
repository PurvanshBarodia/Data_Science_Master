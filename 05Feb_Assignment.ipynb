{
  "nbformat": 4,
  "nbformat_minor": 0,
  "metadata": {
    "colab": {
      "provenance": [],
      "authorship_tag": "ABX9TyPfGE5kbf4nEeZUuDdrQwYO",
      "include_colab_link": true
    },
    "kernelspec": {
      "name": "python3",
      "display_name": "Python 3"
    },
    "language_info": {
      "name": "python"
    }
  },
  "cells": [
    {
      "cell_type": "markdown",
      "metadata": {
        "id": "view-in-github",
        "colab_type": "text"
      },
      "source": [
        "<a href=\"https://colab.research.google.com/github/PurvanshBarodia/Data_Science_Master/blob/main/05Feb_Assignment.ipynb\" target=\"_parent\"><img src=\"https://colab.research.google.com/assets/colab-badge.svg\" alt=\"Open In Colab\"/></a>"
      ]
    },
    {
      "cell_type": "markdown",
      "source": [
        "Q1. Explain Class and Object with respect to Object-Oriented Programming. Give a suitable example."
      ],
      "metadata": {
        "id": "Gc_WAiQ5BKAn"
      }
    },
    {
      "cell_type": "markdown",
      "source": [
        "**Class** is a blueprint or template that defines the behavior of an object.\n",
        "\n",
        "**Object** is a instance of a class.\n",
        "\n",
        "**Example:** Let's say we have class name 'car' which defines the behavior of object with attributes car_name, make_year, color etc.\n",
        "\n",
        "car_1 =car(car_name='Toyota',make_year=2020, color = 'Blue')\n",
        "\n",
        "Here car_1 is instance of class 'car'.\n",
        "\n"
      ],
      "metadata": {
        "id": "Lo7MvoVeBOSj"
      }
    },
    {
      "cell_type": "markdown",
      "source": [
        "Q2. Name the four pillars of OOPs."
      ],
      "metadata": {
        "id": "bsIDjJeFDkIc"
      }
    },
    {
      "cell_type": "markdown",
      "source": [
        "**1. Encapsulation:**\n",
        "(combine data and method into single unit class)\n",
        "\n",
        "**2. Abstraction:**\n",
        "(Hiding the details of implementation and providing simple and easy to use interface to user. like UPI payments)\n",
        "\n",
        "**3. Inheritance:**\n",
        "(creating new class with new data and method having access to data and method of parent class)\n",
        "\n",
        "\n",
        "**4. Polymorphism:**\n",
        "(It refers to ability of a object taking multiple forms. method overloding/ method overriding)"
      ],
      "metadata": {
        "id": "Mlp-1o3lDqIF"
      }
    },
    {
      "cell_type": "markdown",
      "source": [
        "Q3. Explain why the **__init() __**  function is used. Give a suitable example."
      ],
      "metadata": {
        "id": "qZJ4LhOdGeqe"
      }
    },
    {
      "cell_type": "markdown",
      "source": [
        "**__init() __** is a spcial method. It called automatically whenever the object of the class is created.\n",
        "\n",
        "It is also known as constructer.\n",
        "\n",
        "It is used to constucting and initializing the object."
      ],
      "metadata": {
        "id": "DK9hhbcsGpPG"
      }
    },
    {
      "cell_type": "code",
      "source": [
        "class Student():\n",
        "  def __init__(self,name,age,grade):\n",
        "    self.name = name\n",
        "    self.age = age\n",
        "    self.grade = grade"
      ],
      "metadata": {
        "id": "LbVb_Hn8IFnv"
      },
      "execution_count": 1,
      "outputs": []
    },
    {
      "cell_type": "code",
      "source": [
        "s1 = Student(\"Alice\", 20, \"A\")\n",
        "s2 = Student(\"Bob\", 21, \"B\")"
      ],
      "metadata": {
        "id": "-rHPOpW_Inq4"
      },
      "execution_count": 2,
      "outputs": []
    },
    {
      "cell_type": "code",
      "source": [
        "print(s1.name)  \n",
        "print(s1.age)  \n",
        "print(s1.grade)\n",
        "\n",
        "print(s2.name) \n",
        "print(s2.age)   \n",
        "print(s2.grade) "
      ],
      "metadata": {
        "colab": {
          "base_uri": "https://localhost:8080/"
        },
        "id": "k7z3PbxbIuN3",
        "outputId": "7a1ee2a7-a4ad-4624-bdf8-9c3c2e290247"
      },
      "execution_count": 3,
      "outputs": [
        {
          "output_type": "stream",
          "name": "stdout",
          "text": [
            "Alice\n",
            "20\n",
            "A\n",
            "Bob\n",
            "21\n",
            "B\n"
          ]
        }
      ]
    },
    {
      "cell_type": "markdown",
      "source": [
        "Q4. Why self is used in OOPs?"
      ],
      "metadata": {
        "id": "yDHvftTHJrq4"
      }
    },
    {
      "cell_type": "markdown",
      "source": [
        "'self' is a special keyword used to refer to the instance of the class.\n",
        "\n",
        "This allows the method to access and modify the attributes of the particualr instance."
      ],
      "metadata": {
        "id": "gAhMFgqNJzko"
      }
    },
    {
      "cell_type": "markdown",
      "source": [
        "Q5. What is inheritance? Give an example for each type of inheritance."
      ],
      "metadata": {
        "id": "Oejy3pmDR1gP"
      }
    },
    {
      "cell_type": "markdown",
      "source": [
        "Inheritance: It allows classes to reuse and extend the properties and behaviors of other classes.\n",
        "\n",
        "There are four types of inheritance in python:\n",
        "\n",
        "1. **Single:**\n",
        "\n",
        "  In single inheritance, a subclass inherits properties and behaviors from a single superclass.\n",
        "2. **Multiple:**\n",
        "\n",
        "  In multiple inheritance, a subclass inherits properties and behaviors from multiple superclasses.\n",
        "3. **Multi-level:**\n",
        "\n",
        "  In multi-level inheritance, a subclass inherits properties and behaviors from a superclass, which in turn inherits from another superclass.\n",
        "4. **Hierarchical Inheritance:**\n",
        "\n",
        "  Inhierarchical inheritance, multiple subclasses inherit properties and behaviors from a single superclass.\n"
      ],
      "metadata": {
        "id": "8NYeJADWSGHa"
      }
    },
    {
      "cell_type": "code",
      "source": [
        "# Single Inheritance\n",
        "class Animal:\n",
        "    def __init__(self, name):\n",
        "        self.name = name\n",
        "\n",
        "    def sound(self):\n",
        "        pass\n",
        "\n",
        "class Dog(Animal):\n",
        "    def sound(self):\n",
        "        return \"Bark\"\n"
      ],
      "metadata": {
        "id": "i-uIginjU-u5"
      },
      "execution_count": 4,
      "outputs": []
    },
    {
      "cell_type": "code",
      "source": [
        "# Multiple Inheritance\n",
        "class A:\n",
        "    def method(self):\n",
        "        return \"A\"\n",
        "\n",
        "class B:\n",
        "    def method(self):\n",
        "        return \"B\"\n",
        "\n",
        "class C(A, B):\n",
        "    pass\n"
      ],
      "metadata": {
        "id": "r3GSk6lfVOMT"
      },
      "execution_count": 5,
      "outputs": []
    },
    {
      "cell_type": "code",
      "source": [
        "# Multi-level\n",
        "class Animal:\n",
        "    def __init__(self, name):\n",
        "        self.name = name\n",
        "\n",
        "    def sound(self):\n",
        "        pass\n",
        "\n",
        "class Dog(Animal):\n",
        "    def sound(self):\n",
        "        return \"Bark\"\n",
        "\n",
        "class Poodle(Dog):\n",
        "    pass\n"
      ],
      "metadata": {
        "id": "K3O5u2D2VUcA"
      },
      "execution_count": 6,
      "outputs": []
    },
    {
      "cell_type": "code",
      "source": [
        "# Hierarchical Inheritance\n",
        "class Animal:\n",
        "    def __init__(self, name):\n",
        "        self.name = name\n",
        "\n",
        "    def sound(self):\n",
        "        pass\n",
        "\n",
        "class Dog(Animal):\n",
        "    def sound(self):\n",
        "        return \"Bark\"\n",
        "\n",
        "class Cat(Animal):\n",
        "    def sound(self):\n",
        "        return \"Meow\"\n"
      ],
      "metadata": {
        "id": "Z4ocdClBVZ1K"
      },
      "execution_count": 7,
      "outputs": []
    }
  ]
}