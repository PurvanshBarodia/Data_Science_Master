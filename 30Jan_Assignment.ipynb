{
  "cells": [
    {
      "cell_type": "markdown",
      "metadata": {
        "id": "view-in-github",
        "colab_type": "text"
      },
      "source": [
        "<a href=\"https://colab.research.google.com/github/PurvanshBarodia/Data_Science_Master/blob/main/30Jan_Assignment.ipynb\" target=\"_parent\"><img src=\"https://colab.research.google.com/assets/colab-badge.svg\" alt=\"Open In Colab\"/></a>"
      ]
    },
    {
      "cell_type": "markdown",
      "id": "905d5ce8-2fe0-4af8-b74d-62082b6b6191",
      "metadata": {
        "id": "905d5ce8-2fe0-4af8-b74d-62082b6b6191"
      },
      "source": [
        "Q1"
      ]
    },
    {
      "cell_type": "code",
      "execution_count": null,
      "id": "f0767da4-07df-461d-a136-275e4e80bf02",
      "metadata": {
        "id": "f0767da4-07df-461d-a136-275e4e80bf02",
        "outputId": "a40198ce-f082-48dc-e4d9-86eff88d90ba"
      },
      "outputs": [
        {
          "name": "stdin",
          "output_type": "stream",
          "text": [
            "Enter the percentage 81\n"
          ]
        },
        {
          "name": "stdout",
          "output_type": "stream",
          "text": [
            "You recieved grade 'B' \n"
          ]
        }
      ],
      "source": [
        "percentage = int(input(\"Enter the percentage\"))\n",
        "\n",
        "if percentage > 90:\n",
        "    print(\"You recieved grade 'A' \")\n",
        "elif percentage > 80 or percentage == 90:\n",
        "    print(\"You recieved grade 'B' \")\n",
        "elif percentage >= 60 or percentage <= 80:\n",
        "    print(\"You recieved grade 'C' \")\n",
        "elif percentage < 60:\n",
        "    print(\"You recieved grade 'D' \")\n",
        "\n"
      ]
    },
    {
      "cell_type": "markdown",
      "id": "5245b207-b4ae-419c-a365-820b81b083be",
      "metadata": {
        "id": "5245b207-b4ae-419c-a365-820b81b083be"
      },
      "source": [
        "Q2"
      ]
    },
    {
      "cell_type": "code",
      "execution_count": null,
      "id": "dfc8a777-ce05-41b1-8967-85dde8b81614",
      "metadata": {
        "id": "dfc8a777-ce05-41b1-8967-85dde8b81614",
        "outputId": "ae7ba923-df20-4cad-85ff-4772be10fc84"
      },
      "outputs": [
        {
          "name": "stdin",
          "output_type": "stream",
          "text": [
            "Enter the price of your bike 75000\n"
          ]
        },
        {
          "name": "stdout",
          "output_type": "stream",
          "text": [
            "You have to paid 10% as tax of your bike cost\n"
          ]
        }
      ],
      "source": [
        "bike_cost = int(input(\"Enter the price of your bike\"))\n",
        "\n",
        "if bike_cost > 100000:\n",
        "    print(\"You have to paid 15% as tax of your bike cost\")\n",
        "elif bike_cost > 50000 or bike_cost <=100000:\n",
        "    print(\"You have to paid 10% as tax of your bike cost\")\n",
        "elif bike_cost <=50000:\n",
        "    print(\"You have to paid 5% as tax of your bike cost\")"
      ]
    },
    {
      "cell_type": "markdown",
      "id": "bd607670-fc7a-4d65-b537-96abe2d32301",
      "metadata": {
        "id": "bd607670-fc7a-4d65-b537-96abe2d32301"
      },
      "source": [
        "Q3"
      ]
    },
    {
      "cell_type": "code",
      "execution_count": null,
      "id": "7d35d815-e3fc-4945-8102-01d1bdc717d1",
      "metadata": {
        "id": "7d35d815-e3fc-4945-8102-01d1bdc717d1",
        "outputId": "34fa5a2a-598f-45d3-8e8f-d7dd86aadf6b"
      },
      "outputs": [
        {
          "name": "stdin",
          "output_type": "stream",
          "text": [
            "Enter the city name Agra\n"
          ]
        },
        {
          "name": "stdout",
          "output_type": "stream",
          "text": [
            "You can visit TAJ MAHAL\n"
          ]
        }
      ],
      "source": [
        "city = input(\"Enter the city name\")\n",
        "if city == \"Delhi\":\n",
        "    print(\"You can visit RED FORT\")\n",
        "elif city == \"Agra\":\n",
        "    print(\"You can visit TAJ MAHAL\")\n",
        "elif city == \"Jaipur\":\n",
        "    print(\"You can visit JAL MAHAL\")\n",
        "else:\n",
        "    print(\"Explore...\")"
      ]
    },
    {
      "cell_type": "markdown",
      "id": "38e4aaee-cc18-4be1-a918-c3883cd1c3ef",
      "metadata": {
        "id": "38e4aaee-cc18-4be1-a918-c3883cd1c3ef"
      },
      "source": [
        "Q4"
      ]
    },
    {
      "cell_type": "code",
      "execution_count": null,
      "id": "7a13b1d4-de68-4beb-90ec-99a3a674498a",
      "metadata": {
        "id": "7a13b1d4-de68-4beb-90ec-99a3a674498a",
        "outputId": "c5a45341-9ba5-422a-d040-a496153d959a"
      },
      "outputs": [
        {
          "name": "stdout",
          "output_type": "stream",
          "text": [
            "6.0\n",
            "6.0\n",
            "6.0\n",
            "6.0\n",
            "6.0\n",
            "6.0\n",
            "6.0\n",
            "6.0\n",
            "6.0\n",
            "6.0\n"
          ]
        }
      ],
      "source": [
        "num = 18\n",
        "counter = 1\n",
        "\n",
        "while counter <= 10:\n",
        "    result = num /3\n",
        "    print(result)\n",
        "    counter = counter +1\n",
        "# answer is 10 times "
      ]
    },
    {
      "cell_type": "markdown",
      "id": "08a04e13-fdd6-40ef-b467-968fe77b5f6f",
      "metadata": {
        "id": "08a04e13-fdd6-40ef-b467-968fe77b5f6f"
      },
      "source": [
        "Q5"
      ]
    },
    {
      "cell_type": "markdown",
      "id": "66210f1a-31aa-40b0-a56a-c5f0f6612469",
      "metadata": {
        "id": "66210f1a-31aa-40b0-a56a-c5f0f6612469"
      },
      "source": [
        " While loop is used run a specific block of code is inside it.\n",
        "while loop is use when we don't know how many times iteration happen in code.\n",
        "but before that we have to give some intial condition for starting of execution in while loop.\n",
        "inside the while loop we have to given iteration condition to start the iteration.\n",
        "if the condition becomes True then only iteration starts inside a loop till the condition become\n",
        "false."
      ]
    },
    {
      "cell_type": "code",
      "execution_count": null,
      "id": "7e49878a-0e4b-4c97-8483-f27e9b91a218",
      "metadata": {
        "id": "7e49878a-0e4b-4c97-8483-f27e9b91a218",
        "outputId": "098b5674-d3f5-47c7-8a10-2006c2f61e47"
      },
      "outputs": [
        {
          "name": "stdout",
          "output_type": "stream",
          "text": [
            "1\n",
            "2\n",
            "3\n",
            "4\n",
            "5\n"
          ]
        }
      ],
      "source": [
        "#Example\n",
        "\n",
        "i = 1        # initial condition\n",
        "while i <= 5:\n",
        "    print(i)\n",
        "    i = i +1  # main condition for iteration"
      ]
    },
    {
      "cell_type": "markdown",
      "id": "fc9a659f-37d4-452b-94e8-92197f9f1f35",
      "metadata": {
        "id": "fc9a659f-37d4-452b-94e8-92197f9f1f35"
      },
      "source": [
        "Q6"
      ]
    },
    {
      "cell_type": "code",
      "execution_count": null,
      "id": "26d9cfb4-f4b2-4b26-8288-a5fa2a4dd3d7",
      "metadata": {
        "id": "26d9cfb4-f4b2-4b26-8288-a5fa2a4dd3d7",
        "outputId": "c670fcb2-a7bd-4af2-a1dd-040c6e46e3b7"
      },
      "outputs": [
        {
          "name": "stdout",
          "output_type": "stream",
          "text": [
            "*\n",
            "*\n",
            "*\n",
            "$\n",
            "$$\n",
            "$$$\n",
            "#  \n",
            "#  #  \n",
            "#  #  #  \n"
          ]
        }
      ],
      "source": [
        "#1\n",
        "i=1\n",
        "while i <= 3:\n",
        "    print(\"*\"*1)\n",
        "    i=i+1\n",
        "\n",
        "#2\n",
        "n=1\n",
        "while n<=3:\n",
        "    print(\"$\"*n)\n",
        "    n=n+1\n",
        "\n",
        "#3\n",
        "m = 1\n",
        "while m<=3:\n",
        "    print(\"#  \"*m)\n",
        "    m=m+1"
      ]
    },
    {
      "cell_type": "markdown",
      "id": "686b090f-9038-4158-9573-5db486da4f23",
      "metadata": {
        "id": "686b090f-9038-4158-9573-5db486da4f23"
      },
      "source": [
        "Q7"
      ]
    },
    {
      "cell_type": "code",
      "execution_count": null,
      "id": "caf2d67b-ad0a-4e8c-be47-12ec341b15af",
      "metadata": {
        "id": "caf2d67b-ad0a-4e8c-be47-12ec341b15af",
        "outputId": "aa9364f8-9043-4b51-c517-d40c9625fd91"
      },
      "outputs": [
        {
          "name": "stdout",
          "output_type": "stream",
          "text": [
            "10\n",
            "9\n",
            "8\n",
            "7\n",
            "6\n",
            "5\n",
            "4\n",
            "3\n",
            "2\n",
            "1\n"
          ]
        }
      ],
      "source": [
        "i = 10\n",
        "while i>=1:\n",
        "    print(i)\n",
        "    i = i-1"
      ]
    },
    {
      "cell_type": "markdown",
      "id": "f7978687-d858-47ab-9303-c4371731172d",
      "metadata": {
        "id": "f7978687-d858-47ab-9303-c4371731172d"
      },
      "source": [
        "Q8"
      ]
    },
    {
      "cell_type": "code",
      "execution_count": null,
      "id": "6f54170c-52a6-40a5-848a-a47d2c866a64",
      "metadata": {
        "id": "6f54170c-52a6-40a5-848a-a47d2c866a64",
        "outputId": "afc9b480-16e7-499a-cff2-0d18f8f0f2e8"
      },
      "outputs": [
        {
          "name": "stdout",
          "output_type": "stream",
          "text": [
            "10\n",
            "9\n",
            "8\n",
            "7\n",
            "6\n",
            "5\n",
            "4\n",
            "3\n",
            "2\n",
            "1\n"
          ]
        }
      ],
      "source": [
        "for g in range(10,0,-1):\n",
        "    print(g)"
      ]
    },
    {
      "cell_type": "code",
      "execution_count": null,
      "id": "951637d4-0d6b-4fb3-a545-c96ed302bf65",
      "metadata": {
        "id": "951637d4-0d6b-4fb3-a545-c96ed302bf65"
      },
      "outputs": [],
      "source": []
    }
  ],
  "metadata": {
    "kernelspec": {
      "display_name": "Python 3 (ipykernel)",
      "language": "python",
      "name": "python3"
    },
    "language_info": {
      "codemirror_mode": {
        "name": "ipython",
        "version": 3
      },
      "file_extension": ".py",
      "mimetype": "text/x-python",
      "name": "python",
      "nbconvert_exporter": "python",
      "pygments_lexer": "ipython3",
      "version": "3.10.6"
    },
    "colab": {
      "provenance": [],
      "include_colab_link": true
    }
  },
  "nbformat": 4,
  "nbformat_minor": 5
}