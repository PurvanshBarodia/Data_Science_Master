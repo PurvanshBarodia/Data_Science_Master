{
  "nbformat": 4,
  "nbformat_minor": 0,
  "metadata": {
    "colab": {
      "provenance": [],
      "authorship_tag": "ABX9TyMdyjkGg7mnSq6tKSszHupt",
      "include_colab_link": true
    },
    "kernelspec": {
      "name": "python3",
      "display_name": "Python 3"
    },
    "language_info": {
      "name": "python"
    }
  },
  "cells": [
    {
      "cell_type": "markdown",
      "metadata": {
        "id": "view-in-github",
        "colab_type": "text"
      },
      "source": [
        "<a href=\"https://colab.research.google.com/github/PurvanshBarodia/Data_Science_Master/blob/main/16_Feb_Assignment.ipynb\" target=\"_parent\"><img src=\"https://colab.research.google.com/assets/colab-badge.svg\" alt=\"Open In Colab\"/></a>"
      ]
    },
    {
      "cell_type": "markdown",
      "source": [
        "### Q1. What is a database? Differentiate between SQL and NoSQL databases."
      ],
      "metadata": {
        "id": "Gd_yrPtRrxDh"
      }
    },
    {
      "cell_type": "markdown",
      "source": [
        "DataBase: Database is collection of data, which helps to store and organize the data.\n",
        "\n",
        "SQL : Structured Query Language is useful to handle structured data (tabular)\n",
        "\n",
        "NoSQL : Works with semi-structured or unstructured data. (audio,video,text)"
      ],
      "metadata": {
        "id": "tOae-9EBtahs"
      }
    },
    {
      "cell_type": "markdown",
      "source": [
        "###Q2. What is DDL? Explain why CREATE, DROP, ALTER, and TRUNCATE are used with an example.\n"
      ],
      "metadata": {
        "id": "0gb1PdOUtQq4"
      }
    },
    {
      "cell_type": "markdown",
      "source": [
        "DDL referes to data definition language it helps to define structure of table.\n",
        "\n",
        "**Create:**\n",
        "\n",
        "create table table_name();\n",
        "\n",
        "**Drop:**\n",
        "\n",
        "(drop the entire table including it's structure)\n",
        "drop table table_name ;\n",
        "\n",
        "**Alter:**\n",
        "\n",
        "alter table table_name();\n",
        "\n",
        "**Truncate:**\n",
        "\n",
        "Remove all the records from table but keep the structure.\n",
        "\n"
      ],
      "metadata": {
        "id": "yHF_fOxatmTy"
      }
    },
    {
      "cell_type": "markdown",
      "source": [
        "###Q3. What is DML? Explain INSERT, UPDATE, and DELETE with an example."
      ],
      "metadata": {
        "id": "Bdv08Xzyunkz"
      }
    },
    {
      "cell_type": "markdown",
      "source": [
        "DML referes to Data Manipulation Language\n",
        "\n",
        "**Insert:**\n",
        "\n",
        "to insert values into table\n",
        "insert into table_name values() ;\n",
        "\n",
        "**Update:**\n",
        "\n",
        "update based on condition\n",
        "update table_name set column1= value1 where condition ;\n",
        "\n",
        "**Delete:**\n",
        "\n",
        "Delete rows based on condition\n",
        "\n",
        "delete from table_name where condition;\n"
      ],
      "metadata": {
        "id": "oVX7IqFNuzXd"
      }
    },
    {
      "cell_type": "markdown",
      "source": [
        "###Q4. What is DQL? Explain SELECT with an example."
      ],
      "metadata": {
        "id": "VQ4P-M0uv9vH"
      }
    },
    {
      "cell_type": "markdown",
      "source": [
        "DQL referes to Data Query Language.\n",
        "\n",
        "**Select:**\n",
        "\n",
        "Helps to query the table\n",
        "\n",
        "select * from table_name;\n",
        "\n",
        "select c1,c2 from table_name;\n",
        "\n",
        "select c1,c2 from table_name where c1==c2 ;"
      ],
      "metadata": {
        "id": "ST-G5wEKwHqp"
      }
    },
    {
      "cell_type": "markdown",
      "source": [
        "###Q5. Explain Primary Key and Foreign Key."
      ],
      "metadata": {
        "id": "cF5UCe5ywp2U"
      }
    },
    {
      "cell_type": "markdown",
      "source": [
        "**Primary key :** \n",
        "\n",
        "A not null key that identify each row of table uniquely.\n",
        "\n",
        "**Foreign key :** \n",
        "\n",
        "A primary key of another table which is referred into a table."
      ],
      "metadata": {
        "id": "ka7vDNgnw3_7"
      }
    },
    {
      "cell_type": "markdown",
      "source": [
        "### Q6. Write a python code to connect MySQL to python. Explain the cursor() and execute() method."
      ],
      "metadata": {
        "id": "k9oaLywkxj-l"
      }
    },
    {
      "cell_type": "code",
      "source": [
        "import mysql.connector\n",
        "# import mysql.connector\n",
        "#create user 'user'@'%' identified by 'password'\n",
        "mydb = mysql.connector.connect(\n",
        "  host=\"localhost\",\n",
        "  user=\"abc\",\n",
        "  password=\"password\"\n",
        ")\n",
        "\n",
        "# Create cursor to execute database statements\n",
        "mycursor = mydb.cursor()\n",
        "\n",
        "# execute helps to execute database statements\n",
        "mycursor.execute(\"CREATE DATABASE if not exists test1\")\n",
        "mydb.close()"
      ],
      "metadata": {
        "id": "TbfSGHf8x1Gj"
      },
      "execution_count": null,
      "outputs": []
    },
    {
      "cell_type": "markdown",
      "source": [
        "###Q7. Give the order of execution of SQL clauses in an SQL query."
      ],
      "metadata": {
        "id": "XChWa6HQzJCs"
      }
    },
    {
      "cell_type": "markdown",
      "source": [
        "Order of Execution in SQL:\n",
        "\n",
        "* SELECT\n",
        "* FROM\n",
        "* WHERE\n",
        "* GROUP BY\n",
        "* HAVING\n",
        "* ORDER\n",
        "* LIMIT\n",
        "\n",
        "\n"
      ],
      "metadata": {
        "id": "dHImSoEwzO9P"
      }
    },
    {
      "cell_type": "code",
      "source": [],
      "metadata": {
        "id": "mv44dv7S1Fb-"
      },
      "execution_count": null,
      "outputs": []
    }
  ]
}