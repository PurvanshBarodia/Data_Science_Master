{
  "nbformat": 4,
  "nbformat_minor": 0,
  "metadata": {
    "colab": {
      "provenance": [],
      "authorship_tag": "ABX9TyN4qp+mBl/fiarV30C2AZBp",
      "include_colab_link": true
    },
    "kernelspec": {
      "name": "python3",
      "display_name": "Python 3"
    },
    "language_info": {
      "name": "python"
    }
  },
  "cells": [
    {
      "cell_type": "markdown",
      "metadata": {
        "id": "view-in-github",
        "colab_type": "text"
      },
      "source": [
        "<a href=\"https://colab.research.google.com/github/PurvanshBarodia/Data_Science_Master/blob/main/First_Unique_Character_in_a_String.ipynb\" target=\"_parent\"><img src=\"https://colab.research.google.com/assets/colab-badge.svg\" alt=\"Open In Colab\"/></a>"
      ]
    },
    {
      "cell_type": "markdown",
      "source": [
        "**First Unique Character in a String**\n",
        "\n",
        "Given a string s, find the first non-repeating character in it and return its index. If it does not exist, return -1.\n",
        "\n",
        "**Example 1:**\n",
        "Input: s = \"leetcode\"\n",
        "Output: 0\n",
        "\n",
        "**Example 2:**\n",
        "Input: s = \"loveleetcode\"\n",
        "Output: 2\n",
        "\n",
        "**Example 3:**\n",
        "Input: s = \"aabb\"\n",
        "Output: -1\n",
        "\n",
        "**Constraints:**\n",
        "a. 1 <= s.length <= 10^5\n",
        "b. s consists of only lowercase English letters."
      ],
      "metadata": {
        "id": "AiuwBFKerv0C"
      }
    },
    {
      "cell_type": "code",
      "source": [
        "def first_unique_char(str1):\n",
        "  # dictionary\n",
        "  memset = {}\n",
        "  for i in range(len(str1)):\n",
        "    if str1[i] in memset:\n",
        "      # delete if already exists\n",
        "      del memset[str1[i]]\n",
        "    else:\n",
        "      memset[str1[i]] = i\n",
        "  if memset:\n",
        "    # list of dict values\n",
        "    lis = list(memset.values())\n",
        "    return lis[0]\n",
        "  return -1\n",
        "\n",
        "if __name__ ==  \"__main__\":\n",
        "  input_str = input(\"Enter Sting of characters: \")\n",
        "  out = first_unique_char(input_str)\n",
        "  print(out)\n",
        "\n"
      ],
      "metadata": {
        "colab": {
          "base_uri": "https://localhost:8080/"
        },
        "id": "tcawED_8r8qV",
        "outputId": "c5f2aea7-f11f-492d-cef1-aa1f6efad6fc"
      },
      "execution_count": 14,
      "outputs": [
        {
          "output_type": "stream",
          "name": "stdout",
          "text": [
            "Enter Sting of characters: loveleetcode\n",
            "2\n"
          ]
        }
      ]
    },
    {
      "cell_type": "code",
      "source": [],
      "metadata": {
        "id": "J0j5crjxtRCT"
      },
      "execution_count": null,
      "outputs": []
    }
  ]
}