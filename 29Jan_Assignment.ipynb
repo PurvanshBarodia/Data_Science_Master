{
  "cells": [
    {
      "cell_type": "markdown",
      "metadata": {
        "id": "view-in-github",
        "colab_type": "text"
      },
      "source": [
        "<a href=\"https://colab.research.google.com/github/PurvanshBarodia/Data_Science_Master/blob/main/29Jan_Assignment.ipynb\" target=\"_parent\"><img src=\"https://colab.research.google.com/assets/colab-badge.svg\" alt=\"Open In Colab\"/></a>"
      ]
    },
    {
      "cell_type": "code",
      "execution_count": null,
      "id": "a90d2bc5-a645-4fa3-be02-af7d3b88ea45",
      "metadata": {
        "id": "a90d2bc5-a645-4fa3-be02-af7d3b88ea45"
      },
      "outputs": [],
      "source": [
        "#Q1\n",
        "#python programming language is developed by 'Guido van Rossum' in 1991 "
      ]
    },
    {
      "cell_type": "code",
      "execution_count": null,
      "id": "5386e579-2c7e-4be9-b3ad-810327d1088a",
      "metadata": {
        "id": "5386e579-2c7e-4be9-b3ad-810327d1088a"
      },
      "outputs": [],
      "source": [
        "#Q2\n",
        "\n",
        "# Python is an interpreted programming language\n",
        "# supporting object-oriented, structured, and functional programming.\n"
      ]
    },
    {
      "cell_type": "code",
      "execution_count": null,
      "id": "46f37286-6e0c-4942-8594-6cf57d3f9386",
      "metadata": {
        "id": "46f37286-6e0c-4942-8594-6cf57d3f9386"
      },
      "outputs": [],
      "source": [
        "# Q3\n",
        "# Yes, python is case sensitive language"
      ]
    },
    {
      "cell_type": "code",
      "execution_count": null,
      "id": "23c0ca09-5454-496a-9521-e494558587a6",
      "metadata": {
        "id": "23c0ca09-5454-496a-9521-e494558587a6"
      },
      "outputs": [],
      "source": [
        "# Q4\n",
        "# .py extension"
      ]
    },
    {
      "cell_type": "code",
      "execution_count": null,
      "id": "1d210871-79be-414e-a8fb-1b7ac6874679",
      "metadata": {
        "id": "1d210871-79be-414e-a8fb-1b7ac6874679"
      },
      "outputs": [],
      "source": [
        "# Q5\n",
        "# python is a interpreted language"
      ]
    },
    {
      "cell_type": "code",
      "execution_count": null,
      "id": "f331ac59-a46b-428c-a462-5898928ad319",
      "metadata": {
        "id": "f331ac59-a46b-428c-a462-5898928ad319"
      },
      "outputs": [],
      "source": [
        "#Q6\n",
        "# for loop,while loop, if ,elif,else etc. blocks"
      ]
    },
    {
      "cell_type": "code",
      "execution_count": null,
      "id": "a2a4e414-8acf-40b3-a3a2-01760b8f5e33",
      "metadata": {
        "id": "a2a4e414-8acf-40b3-a3a2-01760b8f5e33"
      },
      "outputs": [],
      "source": [
        "#Q7\n",
        "#  ans--#(modulo) for single line comment"
      ]
    },
    {
      "cell_type": "code",
      "execution_count": null,
      "id": "84f50403-cf60-462e-b1b4-0afcae6ffad8",
      "metadata": {
        "id": "84f50403-cf60-462e-b1b4-0afcae6ffad8"
      },
      "outputs": [],
      "source": [
        "# Q8\n",
        "# in powershell we have to type 'python--version'\n",
        "# to check versiom"
      ]
    },
    {
      "cell_type": "code",
      "execution_count": null,
      "id": "d74da3cc-e332-4c6d-a06f-b4eba182fe3c",
      "metadata": {
        "id": "d74da3cc-e332-4c6d-a06f-b4eba182fe3c"
      },
      "outputs": [],
      "source": [
        "#Q9\n",
        "#lamda construct"
      ]
    },
    {
      "cell_type": "code",
      "execution_count": null,
      "id": "3ed6fe20-cfa8-45eb-88d3-344a4aa2253f",
      "metadata": {
        "id": "3ed6fe20-cfa8-45eb-88d3-344a4aa2253f"
      },
      "outputs": [],
      "source": [
        "#Q10\n",
        "#pip - preferred installer program"
      ]
    },
    {
      "cell_type": "code",
      "execution_count": null,
      "id": "13af45be-f2d0-464a-aca3-794279beb808",
      "metadata": {
        "id": "13af45be-f2d0-464a-aca3-794279beb808"
      },
      "outputs": [],
      "source": [
        "#Q11\n",
        "# print(), len(), input(), remove(), apppend(), extend() etc."
      ]
    },
    {
      "cell_type": "code",
      "execution_count": null,
      "id": "07304c4b-971e-4c74-a0a2-bd1e711a4bcd",
      "metadata": {
        "id": "07304c4b-971e-4c74-a0a2-bd1e711a4bcd"
      },
      "outputs": [],
      "source": [
        "#Q12\n",
        "#maximum length of identifier is 79"
      ]
    },
    {
      "cell_type": "code",
      "execution_count": null,
      "id": "09851878-e183-4117-93a0-e06b8ff97980",
      "metadata": {
        "id": "09851878-e183-4117-93a0-e06b8ff97980"
      },
      "outputs": [],
      "source": [
        "#Q13\n",
        "# Easy to understand\n",
        "# Widely used\n",
        "# Fun to work with\n",
        "# free and open source\n",
        "# dynamically typed\n"
      ]
    },
    {
      "cell_type": "code",
      "execution_count": null,
      "id": "79a08f58-90a8-4366-8157-6ae657e58171",
      "metadata": {
        "id": "79a08f58-90a8-4366-8157-6ae657e58171"
      },
      "outputs": [],
      "source": [
        "#Q14\n",
        "#stored in a heap memory"
      ]
    },
    {
      "cell_type": "code",
      "execution_count": null,
      "id": "69908ea4-9867-4d98-827b-dfce7304e13b",
      "metadata": {
        "id": "69908ea4-9867-4d98-827b-dfce7304e13b"
      },
      "outputs": [],
      "source": [
        "#Q!5\n",
        "# Right click on My Computer and click on properties.\n",
        "# Click on Advanced System settings.\n",
        "# Click on Environment Variable tab.\n",
        "# Click on new tab of user variables.\n",
        "# Write path in variable name.\n",
        "# Copy the path of Python folder.\n",
        "# Paste path of Python in variable value. Click on Ok button"
      ]
    },
    {
      "cell_type": "code",
      "execution_count": null,
      "id": "b2978131-9c82-42ca-99af-5a89ce6cec62",
      "metadata": {
        "id": "b2978131-9c82-42ca-99af-5a89ce6cec62"
      },
      "outputs": [],
      "source": [
        "#Q16\n",
        "# Yes indentation(....) is required in python to define blocks of statements"
      ]
    }
  ],
  "metadata": {
    "kernelspec": {
      "display_name": "Python 3 (ipykernel)",
      "language": "python",
      "name": "python3"
    },
    "language_info": {
      "codemirror_mode": {
        "name": "ipython",
        "version": 3
      },
      "file_extension": ".py",
      "mimetype": "text/x-python",
      "name": "python",
      "nbconvert_exporter": "python",
      "pygments_lexer": "ipython3",
      "version": "3.10.6"
    },
    "colab": {
      "provenance": [],
      "include_colab_link": true
    }
  },
  "nbformat": 4,
  "nbformat_minor": 5
}