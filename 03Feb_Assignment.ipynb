{
  "nbformat": 4,
  "nbformat_minor": 0,
  "metadata": {
    "colab": {
      "provenance": [],
      "authorship_tag": "ABX9TyOf5pFdtaxJvqGG66aJsDgU",
      "include_colab_link": true
    },
    "kernelspec": {
      "name": "python3",
      "display_name": "Python 3"
    },
    "language_info": {
      "name": "python"
    }
  },
  "cells": [
    {
      "cell_type": "markdown",
      "metadata": {
        "id": "view-in-github",
        "colab_type": "text"
      },
      "source": [
        "<a href=\"https://colab.research.google.com/github/PurvanshBarodia/Data_Science_Master/blob/main/03Feb_Assignment.ipynb\" target=\"_parent\"><img src=\"https://colab.research.google.com/assets/colab-badge.svg\" alt=\"Open In Colab\"/></a>"
      ]
    },
    {
      "cell_type": "markdown",
      "source": [
        "Q1. Which keyword is used to create a function? Create a function to return a list of odd numbers in the\n",
        "range of 1 to 25."
      ],
      "metadata": {
        "id": "KBE6Z0huefOz"
      }
    },
    {
      "cell_type": "code",
      "source": [
        "# \"def\" keyword is used to create functions\n",
        "def odd():\n",
        "  lis = [i  for i in range(1,26) if i%2!=0]\n",
        "  return lis\n",
        "\n",
        "print(odd())"
      ],
      "metadata": {
        "colab": {
          "base_uri": "https://localhost:8080/"
        },
        "id": "WNLUxzXoerY2",
        "outputId": "0ba9d69a-3e23-4979-f66d-80f103fce49f"
      },
      "execution_count": 1,
      "outputs": [
        {
          "output_type": "stream",
          "name": "stdout",
          "text": [
            "[1, 3, 5, 7, 9, 11, 13, 15, 17, 19, 21, 23, 25]\n"
          ]
        }
      ]
    },
    {
      "cell_type": "markdown",
      "source": [
        "Q2. Why * *args and ** **kwargs is used in some functions? Create a function each for  *args and ** *kwargs to\n",
        "demonstrate their use."
      ],
      "metadata": {
        "id": "-Kk1gdiMfE4G"
      }
    },
    {
      "cell_type": "markdown",
      "source": [
        "*args and * *kwargs are used to make flexible function that can take n number of non-keyword/keywod arrguments."
      ],
      "metadata": {
        "id": "_orKv8lqfGp3"
      }
    },
    {
      "cell_type": "code",
      "source": [
        "# *args  : takes non-keyword arguments\n",
        "def func_arg(*args):\n",
        "  for i in args:\n",
        "    print(i,end=\",\")\n",
        "\n",
        "func_arg(1,2,3,(4,5,6),\"True\",False)\n"
      ],
      "metadata": {
        "colab": {
          "base_uri": "https://localhost:8080/"
        },
        "id": "SkEYbDc7inpA",
        "outputId": "86cc54c2-3514-4a3f-e2e6-f3389bf9f20e"
      },
      "execution_count": 2,
      "outputs": [
        {
          "output_type": "stream",
          "name": "stdout",
          "text": [
            "1,2,3,(4, 5, 6),True,False,"
          ]
        }
      ]
    },
    {
      "cell_type": "code",
      "source": [
        "# **kwargs : takes keyword arguments\n",
        "def func_kwargs(**kwargs):\n",
        "  for key,value in kwargs.items():\n",
        "    print(f\"{key}:{value}\")\n",
        "\n",
        "func_kwargs(Name=\"Purv\",Age=50,Id=5225)"
      ],
      "metadata": {
        "colab": {
          "base_uri": "https://localhost:8080/"
        },
        "id": "kFTCgzYFjBBa",
        "outputId": "8d2ba088-c2cd-48ae-9a25-98c5bbd1d3bc"
      },
      "execution_count": 3,
      "outputs": [
        {
          "output_type": "stream",
          "name": "stdout",
          "text": [
            "Name:Purv\n",
            "Age:50\n",
            "Id:5225\n"
          ]
        }
      ]
    },
    {
      "cell_type": "markdown",
      "source": [
        "Q3. What is an iterator in python? Name the method used to initialise the iterator object and the method\n",
        "used for iteration. Use these methods to print the first five elements of the given list [2, 4, 6, 8, 10, 12, 14, 16,\n",
        "18, 20]."
      ],
      "metadata": {
        "id": "6y09h_65jmmG"
      }
    },
    {
      "cell_type": "markdown",
      "source": [
        "Iterator in python helps to travel containers (such as list) and access the elements one by one.\n",
        "\n",
        "\"iter()\" keyword is used to initialise the iterator object which takes container (such as list) as input and returns iterator object.\n",
        "\n",
        "\"next()\" keyword is used to travel next element in the iterator object return by the \"iter()\"."
      ],
      "metadata": {
        "id": "78dFJSFDkFfV"
      }
    },
    {
      "cell_type": "code",
      "source": [
        "lis = [2, 4, 6, 8, 10, 12, 14, 16, 18, 20]\n",
        "\n",
        "my_iter = iter(lis)\n",
        "\n",
        "for i in range(5):\n",
        "  print(next(my_iter))\n"
      ],
      "metadata": {
        "colab": {
          "base_uri": "https://localhost:8080/"
        },
        "id": "nfnkJ-YYjV-Y",
        "outputId": "edd25f07-3dd5-41f9-c86e-327200f02626"
      },
      "execution_count": 4,
      "outputs": [
        {
          "output_type": "stream",
          "name": "stdout",
          "text": [
            "2\n",
            "4\n",
            "6\n",
            "8\n",
            "10\n"
          ]
        }
      ]
    },
    {
      "cell_type": "markdown",
      "source": [
        "Q4. What is a generator function in python? Why yield keyword is used? Give an example of a generator\n",
        "function."
      ],
      "metadata": {
        "id": "FcXjsnDenWZJ"
      }
    },
    {
      "cell_type": "code",
      "source": [
        "# Generator in python is a function, which give sequence of values on-the-fly\n",
        "# and not storing entire data in the memory\n",
        "\n",
        "#Instead of returning a single value, a generator function uses the yield keyword to produce a sequence of values, one at a time.\n",
        "\n",
        "# function to generte fibonacci sequences\n",
        "def fib(n):\n",
        "  a,b=0,1\n",
        "\n",
        "  for i in range(n):\n",
        "    yield a\n",
        "    a,b = b,a+b\n",
        "\n",
        "for i in fib(10):\n",
        "  print(i)\n"
      ],
      "metadata": {
        "id": "Zj3TLleGn1HT",
        "colab": {
          "base_uri": "https://localhost:8080/"
        },
        "outputId": "409e6dca-f900-41d6-ce36-e8d1c547c71a"
      },
      "execution_count": 5,
      "outputs": [
        {
          "output_type": "stream",
          "name": "stdout",
          "text": [
            "0\n",
            "1\n",
            "1\n",
            "2\n",
            "3\n",
            "5\n",
            "8\n",
            "13\n",
            "21\n",
            "34\n"
          ]
        }
      ]
    },
    {
      "cell_type": "markdown",
      "source": [
        "Q5. Create a generator function for prime numbers less than 1000. Use the next() method to print the\n",
        "first 20 prime numbers."
      ],
      "metadata": {
        "id": "0nxFGGklhwkw"
      }
    },
    {
      "cell_type": "code",
      "source": [
        "def generate_primes(n):\n",
        "    primes = [True] * (n + 1)\n",
        "    primes[0] = primes[1] = False\n",
        "    for i in range(2, int(n ** 0.5) + 1):\n",
        "        if primes[i]:\n",
        "            for j in range(i * i, n + 1, i):\n",
        "                primes[j] = False\n",
        "    for i in range(2, n + 1):\n",
        "        if primes[i]:\n",
        "            yield i\n"
      ],
      "metadata": {
        "id": "-JV9EkILh1NN"
      },
      "execution_count": 6,
      "outputs": []
    },
    {
      "cell_type": "code",
      "source": [
        "my_iter = iter(generate_primes(1000))\n",
        "\n",
        "for i in range(20):\n",
        "  print(next(my_iter))"
      ],
      "metadata": {
        "colab": {
          "base_uri": "https://localhost:8080/"
        },
        "id": "3dsTTmN6myJ1",
        "outputId": "ff3ef503-4eb1-43cd-f4a1-603e85ed53b3"
      },
      "execution_count": 7,
      "outputs": [
        {
          "output_type": "stream",
          "name": "stdout",
          "text": [
            "2\n",
            "3\n",
            "5\n",
            "7\n",
            "11\n",
            "13\n",
            "17\n",
            "19\n",
            "23\n",
            "29\n",
            "31\n",
            "37\n",
            "41\n",
            "43\n",
            "47\n",
            "53\n",
            "59\n",
            "61\n",
            "67\n",
            "71\n"
          ]
        }
      ]
    },
    {
      "cell_type": "code",
      "source": [],
      "metadata": {
        "id": "7vw3iYUvnHLh"
      },
      "execution_count": 7,
      "outputs": []
    }
  ]
}