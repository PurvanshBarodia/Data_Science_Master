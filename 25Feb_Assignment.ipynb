{
  "nbformat": 4,
  "nbformat_minor": 0,
  "metadata": {
    "colab": {
      "provenance": [],
      "authorship_tag": "ABX9TyPI8AN2PQg+DNoaZwc0kBin",
      "include_colab_link": true
    },
    "kernelspec": {
      "name": "python3",
      "display_name": "Python 3"
    },
    "language_info": {
      "name": "python"
    }
  },
  "cells": [
    {
      "cell_type": "markdown",
      "metadata": {
        "id": "view-in-github",
        "colab_type": "text"
      },
      "source": [
        "<a href=\"https://colab.research.google.com/github/PurvanshBarodia/Data_Science_Master/blob/main/25Feb_Assignment.ipynb\" target=\"_parent\"><img src=\"https://colab.research.google.com/assets/colab-badge.svg\" alt=\"Open In Colab\"/></a>"
      ]
    },
    {
      "cell_type": "code",
      "execution_count": 1,
      "metadata": {
        "id": "HXnddufa2aBv"
      },
      "outputs": [],
      "source": [
        "import pandas as pd\n",
        "import numpy as np\n",
        "import matplotlib.pyplot as plt\n",
        "import seaborn as sns"
      ]
    },
    {
      "cell_type": "code",
      "source": [
        "course_name = ['Data Science', 'Machine Learning', 'Big Data', 'Data Engineer']\n",
        "duration = [2,3,6,4]\n",
        "df = pd.DataFrame(data = {'course_name' : course_name, 'duration' : duration})"
      ],
      "metadata": {
        "id": "8Y4P7_Qd2ogr"
      },
      "execution_count": 2,
      "outputs": []
    },
    {
      "cell_type": "markdown",
      "source": [
        "Q1. Write a code to print the data present in the second row of the dataframe, df."
      ],
      "metadata": {
        "id": "9hbGxNYG2rfW"
      }
    },
    {
      "cell_type": "code",
      "source": [
        "df.iloc[1:2,:]  # second row will be at index 1"
      ],
      "metadata": {
        "colab": {
          "base_uri": "https://localhost:8080/",
          "height": 81
        },
        "id": "j5-Puctw2-Qq",
        "outputId": "5e07ec59-99c9-4e28-9080-7cfb1c0e220f"
      },
      "execution_count": 3,
      "outputs": [
        {
          "output_type": "execute_result",
          "data": {
            "text/plain": [
              "        course_name  duration\n",
              "1  Machine Learning         3"
            ],
            "text/html": [
              "\n",
              "  <div id=\"df-5effcf9e-cc7e-44f2-9a80-229ebb584a7b\">\n",
              "    <div class=\"colab-df-container\">\n",
              "      <div>\n",
              "<style scoped>\n",
              "    .dataframe tbody tr th:only-of-type {\n",
              "        vertical-align: middle;\n",
              "    }\n",
              "\n",
              "    .dataframe tbody tr th {\n",
              "        vertical-align: top;\n",
              "    }\n",
              "\n",
              "    .dataframe thead th {\n",
              "        text-align: right;\n",
              "    }\n",
              "</style>\n",
              "<table border=\"1\" class=\"dataframe\">\n",
              "  <thead>\n",
              "    <tr style=\"text-align: right;\">\n",
              "      <th></th>\n",
              "      <th>course_name</th>\n",
              "      <th>duration</th>\n",
              "    </tr>\n",
              "  </thead>\n",
              "  <tbody>\n",
              "    <tr>\n",
              "      <th>1</th>\n",
              "      <td>Machine Learning</td>\n",
              "      <td>3</td>\n",
              "    </tr>\n",
              "  </tbody>\n",
              "</table>\n",
              "</div>\n",
              "      <button class=\"colab-df-convert\" onclick=\"convertToInteractive('df-5effcf9e-cc7e-44f2-9a80-229ebb584a7b')\"\n",
              "              title=\"Convert this dataframe to an interactive table.\"\n",
              "              style=\"display:none;\">\n",
              "        \n",
              "  <svg xmlns=\"http://www.w3.org/2000/svg\" height=\"24px\"viewBox=\"0 0 24 24\"\n",
              "       width=\"24px\">\n",
              "    <path d=\"M0 0h24v24H0V0z\" fill=\"none\"/>\n",
              "    <path d=\"M18.56 5.44l.94 2.06.94-2.06 2.06-.94-2.06-.94-.94-2.06-.94 2.06-2.06.94zm-11 1L8.5 8.5l.94-2.06 2.06-.94-2.06-.94L8.5 2.5l-.94 2.06-2.06.94zm10 10l.94 2.06.94-2.06 2.06-.94-2.06-.94-.94-2.06-.94 2.06-2.06.94z\"/><path d=\"M17.41 7.96l-1.37-1.37c-.4-.4-.92-.59-1.43-.59-.52 0-1.04.2-1.43.59L10.3 9.45l-7.72 7.72c-.78.78-.78 2.05 0 2.83L4 21.41c.39.39.9.59 1.41.59.51 0 1.02-.2 1.41-.59l7.78-7.78 2.81-2.81c.8-.78.8-2.07 0-2.86zM5.41 20L4 18.59l7.72-7.72 1.47 1.35L5.41 20z\"/>\n",
              "  </svg>\n",
              "      </button>\n",
              "      \n",
              "  <style>\n",
              "    .colab-df-container {\n",
              "      display:flex;\n",
              "      flex-wrap:wrap;\n",
              "      gap: 12px;\n",
              "    }\n",
              "\n",
              "    .colab-df-convert {\n",
              "      background-color: #E8F0FE;\n",
              "      border: none;\n",
              "      border-radius: 50%;\n",
              "      cursor: pointer;\n",
              "      display: none;\n",
              "      fill: #1967D2;\n",
              "      height: 32px;\n",
              "      padding: 0 0 0 0;\n",
              "      width: 32px;\n",
              "    }\n",
              "\n",
              "    .colab-df-convert:hover {\n",
              "      background-color: #E2EBFA;\n",
              "      box-shadow: 0px 1px 2px rgba(60, 64, 67, 0.3), 0px 1px 3px 1px rgba(60, 64, 67, 0.15);\n",
              "      fill: #174EA6;\n",
              "    }\n",
              "\n",
              "    [theme=dark] .colab-df-convert {\n",
              "      background-color: #3B4455;\n",
              "      fill: #D2E3FC;\n",
              "    }\n",
              "\n",
              "    [theme=dark] .colab-df-convert:hover {\n",
              "      background-color: #434B5C;\n",
              "      box-shadow: 0px 1px 3px 1px rgba(0, 0, 0, 0.15);\n",
              "      filter: drop-shadow(0px 1px 2px rgba(0, 0, 0, 0.3));\n",
              "      fill: #FFFFFF;\n",
              "    }\n",
              "  </style>\n",
              "\n",
              "      <script>\n",
              "        const buttonEl =\n",
              "          document.querySelector('#df-5effcf9e-cc7e-44f2-9a80-229ebb584a7b button.colab-df-convert');\n",
              "        buttonEl.style.display =\n",
              "          google.colab.kernel.accessAllowed ? 'block' : 'none';\n",
              "\n",
              "        async function convertToInteractive(key) {\n",
              "          const element = document.querySelector('#df-5effcf9e-cc7e-44f2-9a80-229ebb584a7b');\n",
              "          const dataTable =\n",
              "            await google.colab.kernel.invokeFunction('convertToInteractive',\n",
              "                                                     [key], {});\n",
              "          if (!dataTable) return;\n",
              "\n",
              "          const docLinkHtml = 'Like what you see? Visit the ' +\n",
              "            '<a target=\"_blank\" href=https://colab.research.google.com/notebooks/data_table.ipynb>data table notebook</a>'\n",
              "            + ' to learn more about interactive tables.';\n",
              "          element.innerHTML = '';\n",
              "          dataTable['output_type'] = 'display_data';\n",
              "          await google.colab.output.renderOutput(dataTable, element);\n",
              "          const docLink = document.createElement('div');\n",
              "          docLink.innerHTML = docLinkHtml;\n",
              "          element.appendChild(docLink);\n",
              "        }\n",
              "      </script>\n",
              "    </div>\n",
              "  </div>\n",
              "  "
            ]
          },
          "metadata": {},
          "execution_count": 3
        }
      ]
    },
    {
      "cell_type": "markdown",
      "source": [
        "Q2. What is the difference between the functions loc and iloc in pandas.DataFrame?"
      ],
      "metadata": {
        "id": "u1i-dI_J3FcC"
      }
    },
    {
      "cell_type": "markdown",
      "source": [
        "loc function:\n",
        "we need to give lables(index for rows and column names) to select desired rows and columns\n",
        "\n",
        "\n",
        "iloc function:\n",
        "works with index. Python by default give index to row and columns.we need to give index number for the rows and columns we want to select."
      ],
      "metadata": {
        "id": "cfyYYGse3TU7"
      }
    },
    {
      "cell_type": "markdown",
      "source": [
        "Q3. Reindex the given dataframe using a variable, reindex = [3,0,1,2] and store it in the variable, new_df\n",
        "then find the output for both new_df.loc[2] and new_df.iloc[2]."
      ],
      "metadata": {
        "id": "swXxXTVA5Drh"
      }
    },
    {
      "cell_type": "code",
      "source": [
        "columns = ['column_1', 'column_2', 'column_3', 'column_4', 'column_5', 'column_6']\n",
        "indices = [1,2,3,4,5,6]\n",
        "#Creating a dataframe:\n",
        "df1 = pd.DataFrame(np.random.rand(6,6), columns = columns, index = indices)\n",
        "new_df = df1.reindex([3,0,1,2])"
      ],
      "metadata": {
        "id": "njRmyk215HpV"
      },
      "execution_count": 4,
      "outputs": []
    },
    {
      "cell_type": "code",
      "source": [
        "print(df1.iloc[2])\n",
        "print(new_df.iloc[2])\n",
        "# iloc considers internal indexing given by python"
      ],
      "metadata": {
        "colab": {
          "base_uri": "https://localhost:8080/"
        },
        "id": "3xi3XIt45QYj",
        "outputId": "fa2e3aa1-64fd-4680-99bb-1b8ff07fb107"
      },
      "execution_count": 5,
      "outputs": [
        {
          "output_type": "stream",
          "name": "stdout",
          "text": [
            "column_1    0.722496\n",
            "column_2    0.030777\n",
            "column_3    0.085421\n",
            "column_4    0.202988\n",
            "column_5    0.108284\n",
            "column_6    0.264369\n",
            "Name: 3, dtype: float64\n",
            "column_1    0.378477\n",
            "column_2    0.791470\n",
            "column_3    0.985504\n",
            "column_4    0.801110\n",
            "column_5    0.144010\n",
            "column_6    0.502033\n",
            "Name: 1, dtype: float64\n"
          ]
        }
      ]
    },
    {
      "cell_type": "markdown",
      "source": [
        "Q4. Write a code to find the following statistical measurements for the above dataframe df1:\n",
        "\n",
        "(i) mean of each and every column present in the dataframe.\n",
        "\n",
        "(ii) standard deviation of column, ‘column_2’"
      ],
      "metadata": {
        "id": "BdxenC2z6YYx"
      }
    },
    {
      "cell_type": "code",
      "source": [
        "df1.mean()"
      ],
      "metadata": {
        "colab": {
          "base_uri": "https://localhost:8080/"
        },
        "id": "XJ5iqCIM6nr7",
        "outputId": "d94bb080-a51e-4b12-9624-90c24e9cf05c"
      },
      "execution_count": 6,
      "outputs": [
        {
          "output_type": "execute_result",
          "data": {
            "text/plain": [
              "column_1    0.476008\n",
              "column_2    0.379116\n",
              "column_3    0.664391\n",
              "column_4    0.489571\n",
              "column_5    0.370695\n",
              "column_6    0.538685\n",
              "dtype: float64"
            ]
          },
          "metadata": {},
          "execution_count": 6
        }
      ]
    },
    {
      "cell_type": "code",
      "source": [
        "df1['column_2'].std()"
      ],
      "metadata": {
        "colab": {
          "base_uri": "https://localhost:8080/"
        },
        "id": "nEudF6f_6xgT",
        "outputId": "344d61c6-1d05-4c20-9c7e-f43ba6c521c1"
      },
      "execution_count": 7,
      "outputs": [
        {
          "output_type": "execute_result",
          "data": {
            "text/plain": [
              "0.35805573283205006"
            ]
          },
          "metadata": {},
          "execution_count": 7
        }
      ]
    },
    {
      "cell_type": "markdown",
      "source": [
        "Q5. Replace the data present in the second row of column, ‘column_2’ by a string variable then find the\n",
        "mean of column, column_2."
      ],
      "metadata": {
        "id": "H07Rtdli7zw9"
      }
    },
    {
      "cell_type": "code",
      "source": [
        "df1.loc[:,'column_2'] = [\"This is Str\"for i in range((df1.shape[0]))]"
      ],
      "metadata": {
        "id": "TeyAPuT3790_"
      },
      "execution_count": 8,
      "outputs": []
    },
    {
      "cell_type": "code",
      "source": [
        "df1['column_2'].mean() # we can not find mean for string values"
      ],
      "metadata": {
        "id": "BjBhX4o4xVS4"
      },
      "execution_count": null,
      "outputs": []
    },
    {
      "cell_type": "markdown",
      "source": [
        "Q6. What do you understand about the windows function in pandas and list the types of windows\n",
        "functions?"
      ],
      "metadata": {
        "id": "E0uH0uRE-kwQ"
      }
    },
    {
      "cell_type": "markdown",
      "source": [
        "window function is a way to perform calculations over a rolling window of data in a DataFrame or Series. A window function allows you to apply a function to a rolling window of data, where the window can either be fixed in size or expand as you move along the data. \n",
        "\n",
        "Types of Windos functions:\n",
        "1. Rolling Window Functions\n",
        "2. Expanding Window Functions\n",
        "3. Exponentially Weighted Window Functions\n",
        "4. Aggregation Functions\n",
        "\n"
      ],
      "metadata": {
        "id": "rCyyQiNN-_wY"
      }
    },
    {
      "cell_type": "markdown",
      "source": [
        "Q7. Write a code to print only the current month and year at the time of answering this question.\n",
        "[Hint: Use pandas.datetime function]"
      ],
      "metadata": {
        "id": "pLvBRfqj_iwD"
      }
    },
    {
      "cell_type": "code",
      "source": [
        "print(pd.Timestamp.now().month,\"-\",pd.Timestamp.now().year)"
      ],
      "metadata": {
        "colab": {
          "base_uri": "https://localhost:8080/"
        },
        "id": "I1tYEDLlAB6g",
        "outputId": "c1778d73-1bfe-4281-cd5f-f6a966618c4d"
      },
      "execution_count": 9,
      "outputs": [
        {
          "output_type": "stream",
          "name": "stdout",
          "text": [
            "2 - 2023\n"
          ]
        }
      ]
    },
    {
      "cell_type": "markdown",
      "source": [
        "Q8. Write a Python program that takes in two dates as input (in the format YYYY-MM-DD) and\n",
        "calculates the difference between them in days, hours, and minutes using Pandas time delta. The\n",
        "program should prompt the user to enter the dates and display the result."
      ],
      "metadata": {
        "id": "NMTdYeAuAUoa"
      }
    },
    {
      "cell_type": "code",
      "source": [
        "def time_diff():\n",
        "  d1 = input(\"Enter First Date: \")\n",
        "  d2 = input(\"Enter Second Date: \")\n",
        "\n",
        "  d1 = pd.Timestamp(d1)\n",
        "  d2 = pd.Timestamp(d2)\n",
        "\n",
        "  timediff = d2 - d1\n",
        "\n",
        "  return(\"Days\",timediff.days,\"Hours\",timediff.days*24,\"Minutes\",timediff.days*24*60)"
      ],
      "metadata": {
        "id": "8IykDpEGB8ph"
      },
      "execution_count": 10,
      "outputs": []
    },
    {
      "cell_type": "code",
      "source": [
        "time_diff()"
      ],
      "metadata": {
        "colab": {
          "base_uri": "https://localhost:8080/"
        },
        "id": "6avjjjoZDcdz",
        "outputId": "e1d61fa6-3142-430a-eaa5-6cbfe3eb9282"
      },
      "execution_count": 11,
      "outputs": [
        {
          "name": "stdout",
          "output_type": "stream",
          "text": [
            "Enter First Date: 2022-12-01\n",
            "Enter Second Date: 2023-12-01\n"
          ]
        },
        {
          "output_type": "execute_result",
          "data": {
            "text/plain": [
              "('Days', 365, 'Hours', 8760, 'Minutes', 525600)"
            ]
          },
          "metadata": {},
          "execution_count": 11
        }
      ]
    },
    {
      "cell_type": "markdown",
      "source": [
        "Q9. Write a Python program that reads a CSV file containing categorical data and converts a specified\n",
        "column to a categorical data type. The program should prompt the user to enter the file path, column\n",
        "name, and category order, and then display the sorted data."
      ],
      "metadata": {
        "id": "37I_AfvqDpEa"
      }
    },
    {
      "cell_type": "code",
      "source": [
        "def csv_func():\n",
        "  path = input(\"Enter the file path: \")\n",
        "  columns = input(\"Enter column name by seprating by comma : \").split(',')\n",
        "\n",
        "  import pandas as pd\n",
        "  df = pd.read_csv(path)\n",
        "  for column in columns:\n",
        "    df[column] = pd.Categorical(df[column])\n",
        "\n",
        "    # return sorted_values but sort it using which column???\n",
        "  "
      ],
      "metadata": {
        "id": "WWQPqRC_Ew7U"
      },
      "execution_count": 12,
      "outputs": []
    },
    {
      "cell_type": "markdown",
      "source": [
        "Q10. Write a Python program that reads a CSV file containing sales data for different products and\n",
        "visualizes the data using a stacked bar chart to show the sales of each product category over time. The\n",
        "program should prompt the user to enter the file path and display the chart."
      ],
      "metadata": {
        "id": "yDm_NvxlHFhq"
      }
    },
    {
      "cell_type": "code",
      "source": [
        "file_path = input(\"Enter the path to the CSV file: \")\n",
        "sales_df = pd.read_csv(file_path)\n",
        "\n",
        "sales_df[\"Date\"] = pd.to_datetime(sales_df[\"Date\"])\n",
        "grouped_df = sales_df.groupby([\"Category\", \"Date\"]).sum().reset_index()\n",
        "pivoted_df = grouped_df.pivot(index=\"Date\", columns=\"Category\", values=\"Sales\")\n",
        "pivoted_df.plot(kind=\"bar\", stacked=True)\n",
        "\n",
        "plt.title(\"Sales by Product Category Over Time\")\n",
        "plt.xlabel(\"Date\")\n",
        "plt.ylabel(\"Sales\")\n",
        "\n",
        "plt.show()"
      ],
      "metadata": {
        "id": "fJXBFJMtHgnG"
      },
      "execution_count": null,
      "outputs": []
    },
    {
      "cell_type": "markdown",
      "source": [
        "Q11. You are given a CSV file containing student data that includes the student ID and their test score. Write\n",
        "a Python program that reads the CSV file, calculates the mean, median, and mode of the test scores, and\n",
        "displays the results in a table."
      ],
      "metadata": {
        "id": "Q0dECG68IJQr"
      }
    },
    {
      "cell_type": "code",
      "source": [
        "test_data = pd.DataFrame({\"Student_ID\":[i for i in range(1,11)],\n",
        "                          \"Test_Score\":[85,90,80,75,85,82,78,85,90,85]})\n",
        "test_data.to_csv('test.csv',index=None)"
      ],
      "metadata": {
        "id": "Cm2DRuQhIPxK"
      },
      "execution_count": 13,
      "outputs": []
    },
    {
      "cell_type": "code",
      "source": [
        "df = pd.read_csv(\"test.csv\")\n",
        "print(\"Mean\",df['Test_Score'].mean())\n",
        "print(\"Median\",df['Test_Score'].median())\n",
        "print(\"Mode\",df['Test_Score'].mode())"
      ],
      "metadata": {
        "colab": {
          "base_uri": "https://localhost:8080/"
        },
        "id": "KHQ6C96QJH7G",
        "outputId": "a6c26d15-8648-4b81-a2f3-d489b0dcfc4b"
      },
      "execution_count": 14,
      "outputs": [
        {
          "output_type": "stream",
          "name": "stdout",
          "text": [
            "Mean 83.5\n",
            "Median 85.0\n",
            "Mode 0    85\n",
            "dtype: int64\n"
          ]
        }
      ]
    }
  ]
}