{
  "nbformat": 4,
  "nbformat_minor": 0,
  "metadata": {
    "colab": {
      "provenance": [],
      "authorship_tag": "ABX9TyPpSPeiwONSddmCoy66/nXu",
      "include_colab_link": true
    },
    "kernelspec": {
      "name": "python3",
      "display_name": "Python 3"
    },
    "language_info": {
      "name": "python"
    }
  },
  "cells": [
    {
      "cell_type": "markdown",
      "metadata": {
        "id": "view-in-github",
        "colab_type": "text"
      },
      "source": [
        "<a href=\"https://colab.research.google.com/github/PurvanshBarodia/Data_Science_Master/blob/main/Move_Zeros.ipynb\" target=\"_parent\"><img src=\"https://colab.research.google.com/assets/colab-badge.svg\" alt=\"Open In Colab\"/></a>"
      ]
    },
    {
      "cell_type": "markdown",
      "source": [
        "**Move Zeroes**\n",
        "\n",
        "Given an integer array nums, move all 0's to the end of it while maintaining the relative order of the non-zero elements.\n",
        "\n",
        "Note that you must do this **in-place** without making a copy of the array.\n",
        "\n",
        "**Example 1:**\n",
        "Input: nums = [0,1,0,3,12]\n",
        "Output: [1,3,12,0,0]\n",
        "\n",
        "**Example 2:**\n",
        "Input: nums = [0]\n",
        "Output: [0]\n",
        "\n",
        "**Constraints:**\n",
        "a. 1 <= nums.length <= 10^4\n",
        "b. -2^31 <= nums[i] <= 2^31 - 1"
      ],
      "metadata": {
        "id": "lGrEzwrLc83m"
      }
    },
    {
      "cell_type": "code",
      "source": [
        "def swap(ele1,ele2,arr):\n",
        "  # function for swapping\n",
        "  arr[ele1],arr[ele2] = arr[ele2],arr[ele1]\n",
        "\n",
        "def move_zeros(arr):\n",
        "  for i in range(0,len(arr)):\n",
        "    for j in range(i,len(arr)):\n",
        "      # from i go till you find non-zero element\n",
        "      if arr[i]==0 and arr[j]!=0:\n",
        "        swap(i,j,arr)\n",
        "        break\n",
        "      else:\n",
        "        pass\n",
        "\n",
        "  return arr\n",
        "\n",
        "if __name__ == \"__main__\":\n",
        "  input_arr = list(map(int,input(\"Enter space seprated arr values\").split(\" \")))\n",
        "  output_arr = move_zeros(input_arr)\n",
        "  print(output_arr)"
      ],
      "metadata": {
        "colab": {
          "base_uri": "https://localhost:8080/"
        },
        "id": "5UC7_hJCdDXd",
        "outputId": "bb6afa4e-9368-48f3-afcc-bb7e7a27c696"
      },
      "execution_count": 12,
      "outputs": [
        {
          "output_type": "stream",
          "name": "stdout",
          "text": [
            "Enter space seprated arr values0 1 0 3 12\n",
            "[1, 3, 12, 0, 0]\n"
          ]
        }
      ]
    },
    {
      "cell_type": "code",
      "source": [],
      "metadata": {
        "id": "Tq23cb_ClWiy"
      },
      "execution_count": 9,
      "outputs": []
    }
  ]
}